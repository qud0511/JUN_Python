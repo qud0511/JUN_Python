{
 "cells": [
  {
   "cell_type": "code",
   "execution_count": 2,
   "metadata": {},
   "outputs": [],
   "source": [
    "# https://operstu1.tistory.com/87#code"
   ]
  },
  {
   "cell_type": "code",
   "execution_count": 5,
   "metadata": {},
   "outputs": [],
   "source": [
    "# import requests\n",
    "# from bs4 import BeautifulSoup\n",
    "# import pandas as pd\n",
    "\n",
    "# url = \"https://apis.data.go.kr/1543061/abandonmentPublicSrvc/sido?serviceKey=vQdOdpBNfMUP%2BeLYJyQHgpihTD45Z6FgBkgNreos4PAk5GIB34PZ%2FY%2BOPoJSw0iQgpxg4wrHNcL3lcWk30WdcQ%3D%3D&numOfRows=17&pageNo=1&_type=\"\n",
    "# result = requests.get(url)\n",
    "# soup = BeautifulSoup(result.text, 'lxml-xml')\n",
    "# items = soup.find_all(\"item\")\n",
    "# for item in items:\n",
    "#     row.append(crawling())"
   ]
  },
  {
   "cell_type": "code",
   "execution_count": 14,
   "metadata": {},
   "outputs": [],
   "source": [
    "import requests\n",
    "from bs4 import BeautifulSoup\n",
    "import pandas as pd\n",
    "\n",
    "url = \"http://apis.data.go.kr/1543061/abandonmentPublicSrvc/sido?\"\n",
    "serviceKey = \"serviceKey=vQdOdpBNfMUP%2BeLYJyQHgpihTD45Z6FgBkgNreos4PAk5GIB34PZ%2FY%2BOPoJSw0iQgpxg4wrHNcL3lcWk30WdcQ%3D%3D\"\n",
    "\n",
    "numOfRows = \"&numOfRows=17\"\n",
    "# pageNo = \"&pageNo=1\"\n",
    "type = \"&_type=\"\n",
    "StartCreateDt = \"\"\n",
    "endCreateDt = \"\""
   ]
  },
  {
   "cell_type": "code",
   "execution_count": 19,
   "metadata": {},
   "outputs": [
    {
     "data": {
      "text/plain": [
       "[<item>\n",
       " <orgCd>6110000</orgCd>\n",
       " <orgdownNm>서울특별시</orgdownNm>\n",
       " </item>,\n",
       " <item>\n",
       " <orgCd>6260000</orgCd>\n",
       " <orgdownNm>부산광역시</orgdownNm>\n",
       " </item>,\n",
       " <item>\n",
       " <orgCd>6270000</orgCd>\n",
       " <orgdownNm>대구광역시</orgdownNm>\n",
       " </item>,\n",
       " <item>\n",
       " <orgCd>6280000</orgCd>\n",
       " <orgdownNm>인천광역시</orgdownNm>\n",
       " </item>,\n",
       " <item>\n",
       " <orgCd>6290000</orgCd>\n",
       " <orgdownNm>광주광역시</orgdownNm>\n",
       " </item>,\n",
       " <item>\n",
       " <orgCd>5690000</orgCd>\n",
       " <orgdownNm>세종특별자치시</orgdownNm>\n",
       " </item>,\n",
       " <item>\n",
       " <orgCd>6300000</orgCd>\n",
       " <orgdownNm>대전광역시</orgdownNm>\n",
       " </item>,\n",
       " <item>\n",
       " <orgCd>6310000</orgCd>\n",
       " <orgdownNm>울산광역시</orgdownNm>\n",
       " </item>,\n",
       " <item>\n",
       " <orgCd>6410000</orgCd>\n",
       " <orgdownNm>경기도</orgdownNm>\n",
       " </item>,\n",
       " <item>\n",
       " <orgCd>6420000</orgCd>\n",
       " <orgdownNm>강원도</orgdownNm>\n",
       " </item>,\n",
       " <item>\n",
       " <orgCd>6430000</orgCd>\n",
       " <orgdownNm>충청북도</orgdownNm>\n",
       " </item>,\n",
       " <item>\n",
       " <orgCd>6440000</orgCd>\n",
       " <orgdownNm>충청남도</orgdownNm>\n",
       " </item>,\n",
       " <item>\n",
       " <orgCd>6450000</orgCd>\n",
       " <orgdownNm>전라북도</orgdownNm>\n",
       " </item>,\n",
       " <item>\n",
       " <orgCd>6460000</orgCd>\n",
       " <orgdownNm>전라남도</orgdownNm>\n",
       " </item>,\n",
       " <item>\n",
       " <orgCd>6470000</orgCd>\n",
       " <orgdownNm>경상북도</orgdownNm>\n",
       " </item>,\n",
       " <item>\n",
       " <orgCd>6480000</orgCd>\n",
       " <orgdownNm>경상남도</orgdownNm>\n",
       " </item>,\n",
       " <item>\n",
       " <orgCd>6500000</orgCd>\n",
       " <orgdownNm>제주특별자치도</orgdownNm>\n",
       " </item>]"
      ]
     },
     "execution_count": 19,
     "metadata": {},
     "output_type": "execute_result"
    }
   ],
   "source": [
    "result = requests.get(url + serviceKey + \"&pageNo=1\" + numOfRows + type)\n",
    "soup = BeautifulSoup(result.text, 'lxml-xml')\n",
    "items = soup.find_all(\"item\")\n",
    "items"
   ]
  },
  {
   "cell_type": "code",
   "execution_count": null,
   "metadata": {},
   "outputs": [],
   "source": []
  }
 ],
 "metadata": {
  "kernelspec": {
   "display_name": "Python 3.9.12 ('EV_PY39')",
   "language": "python",
   "name": "python3"
  },
  "language_info": {
   "codemirror_mode": {
    "name": "ipython",
    "version": 3
   },
   "file_extension": ".py",
   "mimetype": "text/x-python",
   "name": "python",
   "nbconvert_exporter": "python",
   "pygments_lexer": "ipython3",
   "version": "3.9.12"
  },
  "orig_nbformat": 4,
  "vscode": {
   "interpreter": {
    "hash": "c34f60c4b6508d34c0193a1e5ad16bfc3f81e2e087a9e2f73ef284bcb9806a0b"
   }
  }
 },
 "nbformat": 4,
 "nbformat_minor": 2
}
