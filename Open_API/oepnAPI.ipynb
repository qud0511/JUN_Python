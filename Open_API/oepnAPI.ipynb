{
 "cells": [
  {
   "cell_type": "code",
   "execution_count": 2,
   "metadata": {},
   "outputs": [],
   "source": [
    "# https://operstu1.tistory.com/87#code\n",
    "\n",
    "# SSLError ==> https -> http"
   ]
  },
  {
   "cell_type": "code",
   "execution_count": 5,
   "metadata": {},
   "outputs": [],
   "source": [
    "# import requests\n",
    "# from bs4 import BeautifulSoup\n",
    "# import pandas as pd\n",
    "\n",
    "# url = \"https://apis.data.go.kr/1543061/abandonmentPublicSrvc/sido?serviceKey=vQdOdpBNfMUP%2BeLYJyQHgpihTD45Z6FgBkgNreos4PAk5GIB34PZ%2FY%2BOPoJSw0iQgpxg4wrHNcL3lcWk30WdcQ%3D%3D&numOfRows=17&pageNo=1&_type=\"\n",
    "# result = requests.get(url)\n",
    "# soup = BeautifulSoup(result.text, 'lxml-xml')\n",
    "# items = soup.find_all(\"item\")\n",
    "# for item in items:\n",
    "#     row.append(crawling())"
   ]
  },
  {
   "cell_type": "code",
   "execution_count": 14,
   "metadata": {},
   "outputs": [],
   "source": [
    "import requests\n",
    "from bs4 import BeautifulSoup\n",
    "import pandas as pd\n",
    "\n",
    "url = \"http://apis.data.go.kr/1543061/abandonmentPublicSrvc/sido?\"\n",
    "serviceKey = \"serviceKey=vQdOdpBNfMUP%2BeLYJyQHgpihTD45Z6FgBkgNreos4PAk5GIB34PZ%2FY%2BOPoJSw0iQgpxg4wrHNcL3lcWk30WdcQ%3D%3D\"\n",
    "\n",
    "numOfRows = \"&numOfRows=17\"\n",
    "# pageNo = \"&pageNo=1\"\n",
    "type = \"&_type=\"\n",
    "StartCreateDt = \"\"\n",
    "endCreateDt = \"\""
   ]
  },
  {
   "cell_type": "code",
   "execution_count": 26,
   "metadata": {},
   "outputs": [
    {
     "name": "stdout",
     "output_type": "stream",
     "text": [
      "[<item>\n",
      "<orgCd>6110000</orgCd>\n",
      "<orgdownNm>서울특별시</orgdownNm>\n",
      "</item>, <item>\n",
      "<orgCd>6260000</orgCd>\n",
      "<orgdownNm>부산광역시</orgdownNm>\n",
      "</item>, <item>\n",
      "<orgCd>6270000</orgCd>\n",
      "<orgdownNm>대구광역시</orgdownNm>\n",
      "</item>, <item>\n",
      "<orgCd>6280000</orgCd>\n",
      "<orgdownNm>인천광역시</orgdownNm>\n",
      "</item>, <item>\n",
      "<orgCd>6290000</orgCd>\n",
      "<orgdownNm>광주광역시</orgdownNm>\n",
      "</item>, <item>\n",
      "<orgCd>5690000</orgCd>\n",
      "<orgdownNm>세종특별자치시</orgdownNm>\n",
      "</item>, <item>\n",
      "<orgCd>6300000</orgCd>\n",
      "<orgdownNm>대전광역시</orgdownNm>\n",
      "</item>, <item>\n",
      "<orgCd>6310000</orgCd>\n",
      "<orgdownNm>울산광역시</orgdownNm>\n",
      "</item>, <item>\n",
      "<orgCd>6410000</orgCd>\n",
      "<orgdownNm>경기도</orgdownNm>\n",
      "</item>, <item>\n",
      "<orgCd>6420000</orgCd>\n",
      "<orgdownNm>강원도</orgdownNm>\n",
      "</item>, <item>\n",
      "<orgCd>6430000</orgCd>\n",
      "<orgdownNm>충청북도</orgdownNm>\n",
      "</item>, <item>\n",
      "<orgCd>6440000</orgCd>\n",
      "<orgdownNm>충청남도</orgdownNm>\n",
      "</item>, <item>\n",
      "<orgCd>6450000</orgCd>\n",
      "<orgdownNm>전라북도</orgdownNm>\n",
      "</item>, <item>\n",
      "<orgCd>6460000</orgCd>\n",
      "<orgdownNm>전라남도</orgdownNm>\n",
      "</item>, <item>\n",
      "<orgCd>6470000</orgCd>\n",
      "<orgdownNm>경상북도</orgdownNm>\n",
      "</item>, <item>\n",
      "<orgCd>6480000</orgCd>\n",
      "<orgdownNm>경상남도</orgdownNm>\n",
      "</item>, <item>\n",
      "<orgCd>6500000</orgCd>\n",
      "<orgdownNm>제주특별자치도</orgdownNm>\n",
      "</item>]\n"
     ]
    }
   ],
   "source": [
    "result = requests.get(url + serviceKey + \"&pageNo=1\" + numOfRows + type)\n",
    "soup = BeautifulSoup(result.text, 'lxml-xml')\n",
    "items = soup.find_all(\"item\")\n",
    "print(items)"
   ]
  },
  {
   "cell_type": "code",
   "execution_count": 29,
   "metadata": {},
   "outputs": [],
   "source": [
    "def parse():\n",
    "    try:\n",
    "        orgCd = item.find(\"orgCd\").get_text()\n",
    "        orgdownNm = item.find(\"orgdownNm\").get_text()\n",
    "        STATE_TIME = item.find(\"stateTime\").get_text()\n",
    "        DECIDE_CNT = item.find(\"decideCnt\").get_text()\n",
    "        CLEAR_CNT = item.find(\"clearCnt\").get_text()\n",
    "        EXAM_CNT = item.find(\"examCnt\").get_text()\n",
    "        DEATH_CNT = item.find(\"deathCnt\").get_text()\n",
    "        CARE_CNT = item.find(\"careCnt\").get_text()\n",
    "        RESUTL_NEG_CNT = item.find(\"resutlNegCnt\").get_text()\n",
    "        ACC_EXAM_CNT = item.find(\"accExamCnt\").get_text()\n",
    "        ACC_EXAM_COMP_CNT = item.find(\"accExamCompCnt\").get_text()\n",
    "        ACC_DEF_RATE = item.find(\"accDefRate\").get_text()\n",
    "        CREATE_DT = item.find(\"createDt\").get_text()\n",
    "        UPDATE_DT = item.find(\"updateDt\").get_text()\n",
    "        return {\n",
    "            \"게시글번호\":SEQ,\n",
    "            \"기준일\":STATE_DT,\n",
    "\n",
    "        }\n",
    "    except AttributeError as e:\n",
    "        return {\n",
    "            \"게시글번호\":None,\n",
    "            \"기준일\":None,\n",
    "            \"기준시간\":None,\n",
    "            \"확진자 수\":None,\n",
    "            \"격리해제 수\":None,\n",
    "            \"검사진행수\":None,\n",
    "            \"사망자 수\":None,\n",
    "            \"치료중 환자수\":None,\n",
    "            \"결과 음성 수\":None,\n",
    "            \"누적 검사 수\":None,\n",
    "            \"누적 검사 완료 수\":None,\n",
    "            \"누적 확진률\":None,\n",
    "            \"등록일시분초\":None,\n",
    "            \"수정일시분초\":None\n",
    "        }"
   ]
  },
  {
   "cell_type": "code",
   "execution_count": 30,
   "metadata": {},
   "outputs": [
    {
     "data": {
      "text/plain": [
       "[{'시도코드': '6110000', '시도명': '서울특별시'},\n",
       " {'시도코드': '6260000', '시도명': '부산광역시'},\n",
       " {'시도코드': '6270000', '시도명': '대구광역시'},\n",
       " {'시도코드': '6280000', '시도명': '인천광역시'},\n",
       " {'시도코드': '6290000', '시도명': '광주광역시'},\n",
       " {'시도코드': '5690000', '시도명': '세종특별자치시'},\n",
       " {'시도코드': '6300000', '시도명': '대전광역시'},\n",
       " {'시도코드': '6310000', '시도명': '울산광역시'},\n",
       " {'시도코드': '6410000', '시도명': '경기도'},\n",
       " {'시도코드': '6420000', '시도명': '강원도'},\n",
       " {'시도코드': '6430000', '시도명': '충청북도'},\n",
       " {'시도코드': '6440000', '시도명': '충청남도'},\n",
       " {'시도코드': '6450000', '시도명': '전라북도'},\n",
       " {'시도코드': '6460000', '시도명': '전라남도'},\n",
       " {'시도코드': '6470000', '시도명': '경상북도'},\n",
       " {'시도코드': '6480000', '시도명': '경상남도'},\n",
       " {'시도코드': '6500000', '시도명': '제주특별자치도'}]"
      ]
     },
     "execution_count": 30,
     "metadata": {},
     "output_type": "execute_result"
    }
   ],
   "source": [
    "row = []\n",
    "\n",
    "# soup = BeautifulSoup(result.text, 'lxml-xml')\n",
    "# items = soup.find_all(\"item\")\n",
    "\n",
    "for item in items:\n",
    "    row.append(parse())\n",
    "\n",
    "row"
   ]
  },
  {
   "cell_type": "code",
   "execution_count": null,
   "metadata": {},
   "outputs": [],
   "source": []
  }
 ],
 "metadata": {
  "kernelspec": {
   "display_name": "Python 3.9.12 ('EV_PY39')",
   "language": "python",
   "name": "python3"
  },
  "language_info": {
   "codemirror_mode": {
    "name": "ipython",
    "version": 3
   },
   "file_extension": ".py",
   "mimetype": "text/x-python",
   "name": "python",
   "nbconvert_exporter": "python",
   "pygments_lexer": "ipython3",
   "version": "3.9.12"
  },
  "orig_nbformat": 4,
  "vscode": {
   "interpreter": {
    "hash": "c34f60c4b6508d34c0193a1e5ad16bfc3f81e2e087a9e2f73ef284bcb9806a0b"
   }
  }
 },
 "nbformat": 4,
 "nbformat_minor": 2
}
