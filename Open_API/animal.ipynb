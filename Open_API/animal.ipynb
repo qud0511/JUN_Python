{
 "cells": [
  {
   "cell_type": "code",
   "execution_count": 18,
   "metadata": {},
   "outputs": [],
   "source": [
    "import requests\n",
    "import pprint\n",
    "import json\n",
    "import pandas as pd"
   ]
  },
  {
   "cell_type": "code",
   "execution_count": null,
   "metadata": {},
   "outputs": [],
   "source": []
  },
  {
   "cell_type": "code",
   "execution_count": null,
   "metadata": {},
   "outputs": [],
   "source": [
    "# OpenAPI 키 등록"
   ]
  },
  {
   "cell_type": "code",
   "execution_count": 17,
   "metadata": {},
   "outputs": [
    {
     "name": "stdout",
     "output_type": "stream",
     "text": [
      "<OpenAPI_ServiceResponse>\n",
      "\t<cmmMsgHeader>\n",
      "\t\t<errMsg>SERVICE ERROR</errMsg>\n",
      "\t\t<returnAuthMsg>SERVICE_KEY_IS_NOT_REGISTERED_ERROR</returnAuthMsg>\n",
      "\t\t<returnReasonCode>30</returnReasonCode>\n",
      "\t</cmmMsgHeader>\n",
      "</OpenAPI_ServiceResponse>\n"
     ]
    }
   ],
   "source": [
    "res = requests.get(\"http://apis.data.go.kr/1543061/animalShelterSrvc/shelterInfo\")\n",
    "print(res.text)"
   ]
  }
 ],
 "metadata": {
  "kernelspec": {
   "display_name": "Python 3.9.12 ('EV_PY39')",
   "language": "python",
   "name": "python3"
  },
  "language_info": {
   "codemirror_mode": {
    "name": "ipython",
    "version": 3
   },
   "file_extension": ".py",
   "mimetype": "text/x-python",
   "name": "python",
   "nbconvert_exporter": "python",
   "pygments_lexer": "ipython3",
   "version": "3.9.12"
  },
  "orig_nbformat": 4,
  "vscode": {
   "interpreter": {
    "hash": "c34f60c4b6508d34c0193a1e5ad16bfc3f81e2e087a9e2f73ef284bcb9806a0b"
   }
  }
 },
 "nbformat": 4,
 "nbformat_minor": 2
}
