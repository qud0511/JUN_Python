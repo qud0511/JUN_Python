{
 "cells": [
  {
   "cell_type": "code",
   "execution_count": 1,
   "metadata": {},
   "outputs": [],
   "source": [
    "import pandas as pd\n",
    "import pymysql"
   ]
  },
  {
   "cell_type": "code",
   "execution_count": 2,
   "metadata": {},
   "outputs": [
    {
     "name": "stdout",
     "output_type": "stream",
     "text": [
      "((1, 'English', datetime.datetime(2006, 2, 15, 5, 2, 19)), (2, 'Italian', datetime.datetime(2006, 2, 15, 5, 2, 19)), (3, 'Japanese', datetime.datetime(2006, 2, 15, 5, 2, 19)), (4, 'Mandarin', datetime.datetime(2006, 2, 15, 5, 2, 19)), (5, 'French', datetime.datetime(2006, 2, 15, 5, 2, 19)), (6, 'German', datetime.datetime(2006, 2, 15, 5, 2, 19)))\n",
      "   0         1                   2\n",
      "0  1   English 2006-02-15 05:02:19\n",
      "1  2   Italian 2006-02-15 05:02:19\n",
      "2  3  Japanese 2006-02-15 05:02:19\n",
      "3  4  Mandarin 2006-02-15 05:02:19\n",
      "4  5    French 2006-02-15 05:02:19\n",
      "5  6    German 2006-02-15 05:02:19\n"
     ]
    }
   ],
   "source": [
    "# MySQL과 Python 연동하기\n",
    "conn = pymysql.connect(host='localhost', user='root', password='0000', \n",
    "db = 'sakila', charset='utf8')\n",
    "\n",
    "cur = conn.cursor() # 2) 커서 객체 생성\n",
    "cur.execute('select\t* from language') # 3) 쿼리 실행\n",
    "rows = cur.fetchall() # 4) fetchall() : 모든 검색 데이터 가져오기\n",
    "print(rows) # for row in rows: print(row)와 동일\n",
    "language_df = pd.DataFrame(rows) # DataFrame 형태로 변환\n",
    "print(language_df)\n",
    "\n",
    "cur.close() # 5) 커서 객체 닫기\n",
    "conn.close() # 6) DB 연결 닫기"
   ]
  },
  {
   "cell_type": "code",
   "execution_count": 3,
   "metadata": {},
   "outputs": [],
   "source": [
    "# cursor() 함수\n",
    "    # cursor 객체 생성\n",
    "    # cursor: 쿼리문에 의해 반환되는 결과값을 저장하는 공간\n",
    "\n",
    "# cursor.execute(‘쿼리문장’, args=None) 함수\n",
    "    # 작성한 쿼리를 실행\n",
    "\n",
    "# fetch 관련 함수\n",
    "    # fetchall(): 모든 데이터를 한 번에 가져옴\n",
    "    # fetchone(): 한 번 호출에 하나의 행만 가져옴\n",
    "    # fetchmany(n): n개 만큼의 데이터를 가져옴\n",
    "\n",
    "# commit() 함수\n",
    "    # 데이터를 추가, 수정, 삭제 등의 작업을 수행한 다음에 실행\n",
    "\n",
    "# close() 함수\n",
    "    # MySQL과의 연결 종료"
   ]
  },
  {
   "cell_type": "code",
   "execution_count": 4,
   "metadata": {},
   "outputs": [
    {
     "name": "stdout",
     "output_type": "stream",
     "text": [
      "('JEFFERY.PINSON@sakilacustomer.org',)\n",
      "('ELMER.NOE@sakilacustomer.org',)\n",
      "('MINNIE.ROMERO@sakilacustomer.org',)\n",
      "('MIRIAM.MCKINNEY@sakilacustomer.org',)\n",
      "('DANIEL.CABRAL@sakilacustomer.org',)\n",
      "('TERRANCE.ROUSH@sakilacustomer.org',)\n",
      "('JOYCE.EDWARDS@sakilacustomer.org',)\n",
      "('GWENDOLYN.MAY@sakilacustomer.org',)\n",
      "('CATHERINE.CAMPBELL@sakilacustomer.org',)\n",
      "('MATTHEW.MAHAN@sakilacustomer.org',)\n",
      "('HERMAN.DEVORE@sakilacustomer.org',)\n",
      "('AMBER.DIXON@sakilacustomer.org',)\n",
      "('TERRENCE.GUNDERSON@sakilacustomer.org',)\n",
      "('SONIA.GREGORY@sakilacustomer.org',)\n",
      "('CHARLES.KOWALSKI@sakilacustomer.org',)\n",
      "('JEANETTE.GREENE@sakilacustomer.org',)\n"
     ]
    }
   ],
   "source": [
    "# MySQL과 Python 연동하기\n",
    "# 복잡한 쿼리 실행\n",
    "    # inner join 실행\n",
    "conn = pymysql.connect(host='localhost', user='root', password='0000',\n",
    "db='sakila', charset='utf8')\n",
    "\n",
    "cur = conn.cursor()\n",
    "query = \"\"\"\n",
    "select c.email\n",
    "from customer as c\n",
    "    inner join rental as r\n",
    "    on c.customer_id = r.customer_id\n",
    "where date(r.rental_date) = (%s)\"\"\"  # => 실제 쿼리와 동일한 문자열 전달(따옴표 주의)\n",
    "\n",
    "cur.execute(query, ('2005-06-14'))\n",
    "rows = cur.fetchall()\n",
    "for row in rows:\n",
    "    print(row)\n",
    "\n",
    "cur.close()\n",
    "conn.close()"
   ]
  },
  {
   "cell_type": "code",
   "execution_count": 5,
   "metadata": {},
   "outputs": [],
   "source": [
    "# 데이터 추가: INSERT\n",
    "    # execute() 예제\n",
    "import pymysql\n",
    "\n",
    "conn = pymysql.connect(host='localhost', user='root', password='0000',\n",
    "db='testdb', charset='utf8')\n",
    "\n",
    "curs = conn.cursor()\n",
    "sql = \"\"\"insert into customer(name, category, region)\n",
    "            values (%s, %s, %s)\"\"\"\n",
    "\n",
    "curs.execute(sql, ('홍길동', 1, '서울'))\n",
    "curs.execute(sql, ('이연수', 2, '서울'))\n",
    "\n",
    "conn.commit()\n",
    "conn.close()"
   ]
  },
  {
   "cell_type": "code",
   "execution_count": 6,
   "metadata": {},
   "outputs": [],
   "source": [
    "# executemany()\n",
    "    # 여러 개의 tuple 데이터를 처리\n",
    "\n",
    "conn\t=\tpymysql.connect(host='localhost',\tuser='root',\tpassword='0000',\n",
    "db='testdb',\tcharset='utf8')\n",
    "\n",
    "curs = conn.cursor()\n",
    "data= (\n",
    "    ('홍진우',\t1,\t'서울'),\n",
    "    ('강지수',\t2,\t'부산'),\n",
    "    ('김청진',\t1,\t'서울'),\n",
    ")\n",
    "sql = \"\"\"insert into customer(name, category, region)\n",
    "            values (%s, %s, %s)\"\"\"\n",
    "curs.executemany(sql, data)\n",
    "conn.commit()\n",
    "conn.close()"
   ]
  },
  {
   "cell_type": "code",
   "execution_count": 7,
   "metadata": {},
   "outputs": [
    {
     "ename": "OperationalError",
     "evalue": "(1054, \"Unknown column 'id' in 'where clause'\")",
     "output_type": "error",
     "traceback": [
      "\u001b[1;31m---------------------------------------------------------------------------\u001b[0m",
      "\u001b[1;31mOperationalError\u001b[0m                          Traceback (most recent call last)",
      "\u001b[1;32mc:\\bbj\\python\\mySQL\\_0801_MySql_연동.ipynb 셀 7\u001b[0m in \u001b[0;36m<cell line: 13>\u001b[1;34m()\u001b[0m\n\u001b[0;32m     <a href='vscode-notebook-cell:/c%3A/bbj/python/mySQL/_0801_MySql_%EC%97%B0%EB%8F%99.ipynb#ch0000006?line=9'>10</a>\u001b[0m curs\u001b[39m.\u001b[39mexecute(sql)\n\u001b[0;32m     <a href='vscode-notebook-cell:/c%3A/bbj/python/mySQL/_0801_MySql_%EC%97%B0%EB%8F%99.ipynb#ch0000006?line=11'>12</a>\u001b[0m sql \u001b[39m=\u001b[39m \u001b[39m\"\u001b[39m\u001b[39mdelete from customer where id=\u001b[39m\u001b[39m%s\u001b[39;00m\u001b[39m\"\u001b[39m\n\u001b[1;32m---> <a href='vscode-notebook-cell:/c%3A/bbj/python/mySQL/_0801_MySql_%EC%97%B0%EB%8F%99.ipynb#ch0000006?line=12'>13</a>\u001b[0m curs\u001b[39m.\u001b[39;49mexecute(sql,\t\u001b[39m6\u001b[39;49m)\n\u001b[0;32m     <a href='vscode-notebook-cell:/c%3A/bbj/python/mySQL/_0801_MySql_%EC%97%B0%EB%8F%99.ipynb#ch0000006?line=14'>15</a>\u001b[0m conn\u001b[39m.\u001b[39mcommit()\n\u001b[0;32m     <a href='vscode-notebook-cell:/c%3A/bbj/python/mySQL/_0801_MySql_%EC%97%B0%EB%8F%99.ipynb#ch0000006?line=15'>16</a>\u001b[0m conn\u001b[39m.\u001b[39mclose()\n",
      "File \u001b[1;32m~\\AppData\\Roaming\\Python\\Python39\\site-packages\\pymysql\\cursors.py:148\u001b[0m, in \u001b[0;36mCursor.execute\u001b[1;34m(self, query, args)\u001b[0m\n\u001b[0;32m    144\u001b[0m     \u001b[39mpass\u001b[39;00m\n\u001b[0;32m    146\u001b[0m query \u001b[39m=\u001b[39m \u001b[39mself\u001b[39m\u001b[39m.\u001b[39mmogrify(query, args)\n\u001b[1;32m--> 148\u001b[0m result \u001b[39m=\u001b[39m \u001b[39mself\u001b[39;49m\u001b[39m.\u001b[39;49m_query(query)\n\u001b[0;32m    149\u001b[0m \u001b[39mself\u001b[39m\u001b[39m.\u001b[39m_executed \u001b[39m=\u001b[39m query\n\u001b[0;32m    150\u001b[0m \u001b[39mreturn\u001b[39;00m result\n",
      "File \u001b[1;32m~\\AppData\\Roaming\\Python\\Python39\\site-packages\\pymysql\\cursors.py:310\u001b[0m, in \u001b[0;36mCursor._query\u001b[1;34m(self, q)\u001b[0m\n\u001b[0;32m    308\u001b[0m \u001b[39mself\u001b[39m\u001b[39m.\u001b[39m_last_executed \u001b[39m=\u001b[39m q\n\u001b[0;32m    309\u001b[0m \u001b[39mself\u001b[39m\u001b[39m.\u001b[39m_clear_result()\n\u001b[1;32m--> 310\u001b[0m conn\u001b[39m.\u001b[39;49mquery(q)\n\u001b[0;32m    311\u001b[0m \u001b[39mself\u001b[39m\u001b[39m.\u001b[39m_do_get_result()\n\u001b[0;32m    312\u001b[0m \u001b[39mreturn\u001b[39;00m \u001b[39mself\u001b[39m\u001b[39m.\u001b[39mrowcount\n",
      "File \u001b[1;32m~\\AppData\\Roaming\\Python\\Python39\\site-packages\\pymysql\\connections.py:548\u001b[0m, in \u001b[0;36mConnection.query\u001b[1;34m(self, sql, unbuffered)\u001b[0m\n\u001b[0;32m    546\u001b[0m     sql \u001b[39m=\u001b[39m sql\u001b[39m.\u001b[39mencode(\u001b[39mself\u001b[39m\u001b[39m.\u001b[39mencoding, \u001b[39m\"\u001b[39m\u001b[39msurrogateescape\u001b[39m\u001b[39m\"\u001b[39m)\n\u001b[0;32m    547\u001b[0m \u001b[39mself\u001b[39m\u001b[39m.\u001b[39m_execute_command(COMMAND\u001b[39m.\u001b[39mCOM_QUERY, sql)\n\u001b[1;32m--> 548\u001b[0m \u001b[39mself\u001b[39m\u001b[39m.\u001b[39m_affected_rows \u001b[39m=\u001b[39m \u001b[39mself\u001b[39;49m\u001b[39m.\u001b[39;49m_read_query_result(unbuffered\u001b[39m=\u001b[39;49munbuffered)\n\u001b[0;32m    549\u001b[0m \u001b[39mreturn\u001b[39;00m \u001b[39mself\u001b[39m\u001b[39m.\u001b[39m_affected_rows\n",
      "File \u001b[1;32m~\\AppData\\Roaming\\Python\\Python39\\site-packages\\pymysql\\connections.py:775\u001b[0m, in \u001b[0;36mConnection._read_query_result\u001b[1;34m(self, unbuffered)\u001b[0m\n\u001b[0;32m    773\u001b[0m \u001b[39melse\u001b[39;00m:\n\u001b[0;32m    774\u001b[0m     result \u001b[39m=\u001b[39m MySQLResult(\u001b[39mself\u001b[39m)\n\u001b[1;32m--> 775\u001b[0m     result\u001b[39m.\u001b[39;49mread()\n\u001b[0;32m    776\u001b[0m \u001b[39mself\u001b[39m\u001b[39m.\u001b[39m_result \u001b[39m=\u001b[39m result\n\u001b[0;32m    777\u001b[0m \u001b[39mif\u001b[39;00m result\u001b[39m.\u001b[39mserver_status \u001b[39mis\u001b[39;00m \u001b[39mnot\u001b[39;00m \u001b[39mNone\u001b[39;00m:\n",
      "File \u001b[1;32m~\\AppData\\Roaming\\Python\\Python39\\site-packages\\pymysql\\connections.py:1156\u001b[0m, in \u001b[0;36mMySQLResult.read\u001b[1;34m(self)\u001b[0m\n\u001b[0;32m   1154\u001b[0m \u001b[39mdef\u001b[39;00m \u001b[39mread\u001b[39m(\u001b[39mself\u001b[39m):\n\u001b[0;32m   1155\u001b[0m     \u001b[39mtry\u001b[39;00m:\n\u001b[1;32m-> 1156\u001b[0m         first_packet \u001b[39m=\u001b[39m \u001b[39mself\u001b[39;49m\u001b[39m.\u001b[39;49mconnection\u001b[39m.\u001b[39;49m_read_packet()\n\u001b[0;32m   1158\u001b[0m         \u001b[39mif\u001b[39;00m first_packet\u001b[39m.\u001b[39mis_ok_packet():\n\u001b[0;32m   1159\u001b[0m             \u001b[39mself\u001b[39m\u001b[39m.\u001b[39m_read_ok_packet(first_packet)\n",
      "File \u001b[1;32m~\\AppData\\Roaming\\Python\\Python39\\site-packages\\pymysql\\connections.py:725\u001b[0m, in \u001b[0;36mConnection._read_packet\u001b[1;34m(self, packet_type)\u001b[0m\n\u001b[0;32m    723\u001b[0m     \u001b[39mif\u001b[39;00m \u001b[39mself\u001b[39m\u001b[39m.\u001b[39m_result \u001b[39mis\u001b[39;00m \u001b[39mnot\u001b[39;00m \u001b[39mNone\u001b[39;00m \u001b[39mand\u001b[39;00m \u001b[39mself\u001b[39m\u001b[39m.\u001b[39m_result\u001b[39m.\u001b[39munbuffered_active \u001b[39mis\u001b[39;00m \u001b[39mTrue\u001b[39;00m:\n\u001b[0;32m    724\u001b[0m         \u001b[39mself\u001b[39m\u001b[39m.\u001b[39m_result\u001b[39m.\u001b[39munbuffered_active \u001b[39m=\u001b[39m \u001b[39mFalse\u001b[39;00m\n\u001b[1;32m--> 725\u001b[0m     packet\u001b[39m.\u001b[39;49mraise_for_error()\n\u001b[0;32m    726\u001b[0m \u001b[39mreturn\u001b[39;00m packet\n",
      "File \u001b[1;32m~\\AppData\\Roaming\\Python\\Python39\\site-packages\\pymysql\\protocol.py:221\u001b[0m, in \u001b[0;36mMysqlPacket.raise_for_error\u001b[1;34m(self)\u001b[0m\n\u001b[0;32m    219\u001b[0m \u001b[39mif\u001b[39;00m DEBUG:\n\u001b[0;32m    220\u001b[0m     \u001b[39mprint\u001b[39m(\u001b[39m\"\u001b[39m\u001b[39merrno =\u001b[39m\u001b[39m\"\u001b[39m, errno)\n\u001b[1;32m--> 221\u001b[0m err\u001b[39m.\u001b[39;49mraise_mysql_exception(\u001b[39mself\u001b[39;49m\u001b[39m.\u001b[39;49m_data)\n",
      "File \u001b[1;32m~\\AppData\\Roaming\\Python\\Python39\\site-packages\\pymysql\\err.py:143\u001b[0m, in \u001b[0;36mraise_mysql_exception\u001b[1;34m(data)\u001b[0m\n\u001b[0;32m    141\u001b[0m \u001b[39mif\u001b[39;00m errorclass \u001b[39mis\u001b[39;00m \u001b[39mNone\u001b[39;00m:\n\u001b[0;32m    142\u001b[0m     errorclass \u001b[39m=\u001b[39m InternalError \u001b[39mif\u001b[39;00m errno \u001b[39m<\u001b[39m \u001b[39m1000\u001b[39m \u001b[39melse\u001b[39;00m OperationalError\n\u001b[1;32m--> 143\u001b[0m \u001b[39mraise\u001b[39;00m errorclass(errno, errval)\n",
      "\u001b[1;31mOperationalError\u001b[0m: (1054, \"Unknown column 'id' in 'where clause'\")"
     ]
    }
   ],
   "source": [
    "# UPDATE, DELETE\n",
    "\n",
    "import\tpymysql\n",
    "\n",
    "conn = pymysql.connect(host='localhost', user='root', password='0000', db='testdb',\tcharset='utf8')\n",
    "\n",
    "curs = conn.cursor()\n",
    "\n",
    "sql = \"\"\"update\tcustomer set region\t= '서울특별시' where region\t= '서울'\"\"\"\n",
    "curs.execute(sql)\n",
    "\n",
    "sql = \"delete from customer where id=%s\"\n",
    "curs.execute(sql,\t6)\n",
    "\n",
    "conn.commit()\n",
    "conn.close()"
   ]
  },
  {
   "cell_type": "code",
   "execution_count": null,
   "metadata": {},
   "outputs": [],
   "source": []
  }
 ],
 "metadata": {
  "kernelspec": {
   "display_name": "Python 3.9.12 ('EV_PY39')",
   "language": "python",
   "name": "python3"
  },
  "language_info": {
   "codemirror_mode": {
    "name": "ipython",
    "version": 3
   },
   "file_extension": ".py",
   "mimetype": "text/x-python",
   "name": "python",
   "nbconvert_exporter": "python",
   "pygments_lexer": "ipython3",
   "version": "3.9.12"
  },
  "orig_nbformat": 4,
  "vscode": {
   "interpreter": {
    "hash": "c34f60c4b6508d34c0193a1e5ad16bfc3f81e2e087a9e2f73ef284bcb9806a0b"
   }
  }
 },
 "nbformat": 4,
 "nbformat_minor": 2
}
