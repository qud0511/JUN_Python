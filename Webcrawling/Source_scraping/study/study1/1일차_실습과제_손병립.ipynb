{
 "cells": [
  {
   "cell_type": "markdown",
   "metadata": {},
   "source": [
    "# 과제 1번: Weather Service"
   ]
  },
  {
   "cell_type": "code",
   "execution_count": 40,
   "metadata": {},
   "outputs": [],
   "source": [
    "from urllib.request import urlopen\n",
    "from bs4 import BeautifulSoup"
   ]
  },
  {
   "cell_type": "markdown",
   "metadata": {},
   "source": [
    "### find()/find_all() 함수 이용"
   ]
  },
  {
   "cell_type": "code",
   "execution_count": 41,
   "metadata": {},
   "outputs": [],
   "source": [
    "# 함수 만들기\n",
    "def scraping_use_find(html):\n",
    "    html = urlopen(html)\n",
    "    soup = BeautifulSoup(html.read(), 'html.parser')\n",
    "    print('National Weather Service Scraping')\n",
    "    print('-'*80)\n",
    "    print('[find 함수 이용]')\n",
    "    \n",
    "    tombstone=soup.find_all('div',{'class':'tombstone-container'})\n",
    "    \n",
    "    for i in range(len(tombstone)):\n",
    "        print('-'*80)\n",
    "        print('[Period]:',tombstone[i].find(attrs={'class':'period-name'}).text)\n",
    "        print('[Short desc]:',tombstone[i].find(attrs={'class':\"short-desc\"}).text)\n",
    "        print('[Temperature]:',tombstone[i].find(attrs={'class':'temp'}).text)\n",
    "        print('[Image desc]:',list(tombstone[i].find('img').attrs.values())[2])"
   ]
  },
  {
   "cell_type": "code",
   "execution_count": 42,
   "metadata": {},
   "outputs": [
    {
     "name": "stdout",
     "output_type": "stream",
     "text": [
      "National Weather Service Scraping\n",
      "--------------------------------------------------------------------------------\n",
      "[find 함수 이용]\n",
      "--------------------------------------------------------------------------------\n",
      "[Period]: Overnight\n",
      "[Short desc]: Mostly Cloudy\n",
      "[Temperature]: Low: 56 °F\n",
      "[Image desc]: Overnight: Mostly cloudy, with a steady temperature around 56. West southwest wind 15 to 17 mph, with gusts as high as 22 mph. \n",
      "--------------------------------------------------------------------------------\n",
      "[Period]: Thursday\n",
      "[Short desc]: Partly Sunnythen Sunnyand Breezy\n",
      "[Temperature]: High: 68 °F\n",
      "[Image desc]: Thursday: Mostly cloudy through mid morning, then gradual clearing, with a high near 68. Breezy, with a west wind 13 to 18 mph increasing to 21 to 26 mph in the afternoon. Winds could gust as high as 34 mph. \n",
      "--------------------------------------------------------------------------------\n",
      "[Period]: ThursdayNight\n",
      "[Short desc]: Mostly Clearand Breezythen PartlyCloudy\n",
      "[Temperature]: Low: 55 °F\n",
      "[Image desc]: Thursday Night: Partly cloudy, with a low around 55. Breezy, with a west wind 17 to 23 mph, with gusts as high as 30 mph. \n",
      "--------------------------------------------------------------------------------\n",
      "[Period]: Friday\n",
      "[Short desc]: Sunny andBreezy\n",
      "[Temperature]: High: 68 °F\n",
      "[Image desc]: Friday: Sunny, with a high near 68. Breezy, with a west wind 20 to 26 mph, with gusts as high as 34 mph. \n",
      "--------------------------------------------------------------------------------\n",
      "[Period]: FridayNight\n",
      "[Short desc]: Partly Cloudyand Breezy\n",
      "[Temperature]: Low: 54 °F\n",
      "[Image desc]: Friday Night: Partly cloudy, with a low around 54. Breezy, with a west wind 17 to 25 mph, with gusts as high as 33 mph. \n",
      "--------------------------------------------------------------------------------\n",
      "[Period]: Saturday\n",
      "[Short desc]: Mostly Sunny\n",
      "[Temperature]: High: 68 °F\n",
      "[Image desc]: Saturday: Mostly sunny, with a high near 68.\n",
      "--------------------------------------------------------------------------------\n",
      "[Period]: SaturdayNight\n",
      "[Short desc]: Partly Cloudy\n",
      "[Temperature]: Low: 54 °F\n",
      "[Image desc]: Saturday Night: Partly cloudy, with a low around 54.\n",
      "--------------------------------------------------------------------------------\n",
      "[Period]: Sunday\n",
      "[Short desc]: Mostly Sunny\n",
      "[Temperature]: High: 70 °F\n",
      "[Image desc]: Sunday: Mostly sunny, with a high near 70.\n",
      "--------------------------------------------------------------------------------\n",
      "[Period]: SundayNight\n",
      "[Short desc]: Mostly Cloudy\n",
      "[Temperature]: Low: 54 °F\n",
      "[Image desc]: Sunday Night: Mostly cloudy, with a low around 54.\n"
     ]
    }
   ],
   "source": [
    "# 기능 구현\n",
    "html = 'https://forecast.weather.gov/MapClick.php?lat=37.7772&lon=-122.4168#.YtjtYXZBxPY'\n",
    "scraping_use_find(html)"
   ]
  },
  {
   "cell_type": "markdown",
   "metadata": {},
   "source": [
    "### select_one()/select() 함수 이용"
   ]
  },
  {
   "cell_type": "code",
   "execution_count": 43,
   "metadata": {},
   "outputs": [],
   "source": [
    "# 함수 만들기\n",
    "def scraping_use_select(html):\n",
    "    html = urlopen(html)\n",
    "    soup = BeautifulSoup(html.read(), 'html.parser')\n",
    "    print('National Weather Service Scraping')\n",
    "    print('-'*80)\n",
    "    print('[select 함수 이용]')\n",
    "    tombstone=soup.select('div.tombstone-container')\n",
    "\n",
    "    for i in range(len(tombstone)):\n",
    "        \n",
    "        print('-'*80)\n",
    "        print('[Period]:',tombstone[i].select_one('p.period-name').text)\n",
    "        print('[Short desc]:',tombstone[i].select_one('p.short-desc').text)\n",
    "        print('[Temperature]:',tombstone[i].select_one('p.temp').text)\n",
    "        print('[Image desc]:',list(tombstone[i].select_one('img').attrs.values())[2])"
   ]
  },
  {
   "cell_type": "code",
   "execution_count": 44,
   "metadata": {},
   "outputs": [
    {
     "name": "stdout",
     "output_type": "stream",
     "text": [
      "National Weather Service Scraping\n",
      "--------------------------------------------------------------------------------\n",
      "[select 함수 이용]\n",
      "--------------------------------------------------------------------------------\n",
      "[Period]: Overnight\n",
      "[Short desc]: Mostly Cloudy\n",
      "[Temperature]: Low: 56 °F\n",
      "[Image desc]: Overnight: Mostly cloudy, with a steady temperature around 56. West southwest wind 15 to 17 mph, with gusts as high as 22 mph. \n",
      "--------------------------------------------------------------------------------\n",
      "[Period]: Thursday\n",
      "[Short desc]: Partly Sunnythen Sunnyand Breezy\n",
      "[Temperature]: High: 68 °F\n",
      "[Image desc]: Thursday: Mostly cloudy through mid morning, then gradual clearing, with a high near 68. Breezy, with a west wind 13 to 18 mph increasing to 21 to 26 mph in the afternoon. Winds could gust as high as 34 mph. \n",
      "--------------------------------------------------------------------------------\n",
      "[Period]: ThursdayNight\n",
      "[Short desc]: Mostly Clearand Breezythen PartlyCloudy\n",
      "[Temperature]: Low: 55 °F\n",
      "[Image desc]: Thursday Night: Partly cloudy, with a low around 55. Breezy, with a west wind 17 to 23 mph, with gusts as high as 30 mph. \n",
      "--------------------------------------------------------------------------------\n",
      "[Period]: Friday\n",
      "[Short desc]: Sunny andBreezy\n",
      "[Temperature]: High: 68 °F\n",
      "[Image desc]: Friday: Sunny, with a high near 68. Breezy, with a west wind 20 to 26 mph, with gusts as high as 34 mph. \n",
      "--------------------------------------------------------------------------------\n",
      "[Period]: FridayNight\n",
      "[Short desc]: Partly Cloudyand Breezy\n",
      "[Temperature]: Low: 54 °F\n",
      "[Image desc]: Friday Night: Partly cloudy, with a low around 54. Breezy, with a west wind 17 to 25 mph, with gusts as high as 33 mph. \n",
      "--------------------------------------------------------------------------------\n",
      "[Period]: Saturday\n",
      "[Short desc]: Mostly Sunny\n",
      "[Temperature]: High: 68 °F\n",
      "[Image desc]: Saturday: Mostly sunny, with a high near 68.\n",
      "--------------------------------------------------------------------------------\n",
      "[Period]: SaturdayNight\n",
      "[Short desc]: Partly Cloudy\n",
      "[Temperature]: Low: 54 °F\n",
      "[Image desc]: Saturday Night: Partly cloudy, with a low around 54.\n",
      "--------------------------------------------------------------------------------\n",
      "[Period]: Sunday\n",
      "[Short desc]: Mostly Sunny\n",
      "[Temperature]: High: 70 °F\n",
      "[Image desc]: Sunday: Mostly sunny, with a high near 70.\n",
      "--------------------------------------------------------------------------------\n",
      "[Period]: SundayNight\n",
      "[Short desc]: Mostly Cloudy\n",
      "[Temperature]: Low: 54 °F\n",
      "[Image desc]: Sunday Night: Mostly cloudy, with a low around 54.\n"
     ]
    }
   ],
   "source": [
    "# 기능구현\n",
    "html='https://forecast.weather.gov/MapClick.php?lat=37.7772&lon=-122.4168#.YtjtYXZBxPY'\n",
    "scraping_use_select(html)"
   ]
  },
  {
   "cell_type": "code",
   "execution_count": null,
   "metadata": {},
   "outputs": [],
   "source": []
  },
  {
   "cell_type": "code",
   "execution_count": null,
   "metadata": {},
   "outputs": [],
   "source": []
  },
  {
   "cell_type": "code",
   "execution_count": null,
   "metadata": {},
   "outputs": [],
   "source": []
  }
 ],
 "metadata": {
  "kernelspec": {
   "display_name": "Python 3.9.12 ('base')",
   "language": "python",
   "name": "python3"
  },
  "language_info": {
   "codemirror_mode": {
    "name": "ipython",
    "version": 3
   },
   "file_extension": ".py",
   "mimetype": "text/x-python",
   "name": "python",
   "nbconvert_exporter": "python",
   "pygments_lexer": "ipython3",
   "version": "3.9.12"
  },
  "orig_nbformat": 4,
  "vscode": {
   "interpreter": {
    "hash": "ad2bdc8ecc057115af97d19610ffacc2b4e99fae6737bb82f5d7fb13d2f2c186"
   }
  }
 },
 "nbformat": 4,
 "nbformat_minor": 2
}
