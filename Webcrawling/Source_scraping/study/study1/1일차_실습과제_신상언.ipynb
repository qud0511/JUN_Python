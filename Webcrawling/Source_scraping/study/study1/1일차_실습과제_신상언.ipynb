{
 "cells": [
  {
   "cell_type": "code",
   "execution_count": null,
   "id": "0143b3d3",
   "metadata": {},
   "outputs": [],
   "source": []
  },
  {
   "cell_type": "code",
   "execution_count": 6,
   "id": "9797b84e",
   "metadata": {},
   "outputs": [],
   "source": [
    "from urllib.request import urlopen\n",
    "from bs4 import BeautifulSoup\n",
    "\n",
    "html = urlopen('https://forecast.weather.gov/MapClick.php?lat=37.7772&lon=-122.4168#.Ytjs6rbP1PY')"
   ]
  },
  {
   "cell_type": "code",
   "execution_count": 7,
   "id": "f9011ef0",
   "metadata": {
    "scrolled": false
   },
   "outputs": [
    {
     "name": "stdout",
     "output_type": "stream",
     "text": [
      "[Period]: Overnight\n",
      "[Short desc]: Mostly Cloudy\n",
      "[Temperature]: Low: 56 °F\n",
      "[Image desc]: Overnight: Mostly cloudy, with a steady temperature around 56. West southwest wind 15 to 17 mph, with gusts as high as 22 mph. \n",
      "----------------------------------------------------------------------\n",
      "[Period]: Thursday\n",
      "[Short desc]: Partly Sunnythen Sunnyand Breezy\n",
      "[Temperature]: High: 68 °F\n",
      "[Image desc]: Thursday: Mostly cloudy through mid morning, then gradual clearing, with a high near 68. Breezy, with a west wind 13 to 18 mph increasing to 21 to 26 mph in the afternoon. Winds could gust as high as 34 mph. \n",
      "----------------------------------------------------------------------\n",
      "[Period]: ThursdayNight\n",
      "[Short desc]: Mostly Clearand Breezythen PartlyCloudy\n",
      "[Temperature]: Low: 55 °F\n",
      "[Image desc]: Thursday Night: Partly cloudy, with a low around 55. Breezy, with a west wind 17 to 23 mph, with gusts as high as 30 mph. \n",
      "----------------------------------------------------------------------\n",
      "[Period]: Friday\n",
      "[Short desc]: Sunny andBreezy\n",
      "[Temperature]: High: 68 °F\n",
      "[Image desc]: Friday: Sunny, with a high near 68. Breezy, with a west wind 20 to 26 mph, with gusts as high as 34 mph. \n",
      "----------------------------------------------------------------------\n",
      "[Period]: FridayNight\n",
      "[Short desc]: Partly Cloudyand Breezy\n",
      "[Temperature]: Low: 54 °F\n",
      "[Image desc]: Friday Night: Partly cloudy, with a low around 54. Breezy, with a west wind 17 to 25 mph, with gusts as high as 33 mph. \n",
      "----------------------------------------------------------------------\n",
      "[Period]: Saturday\n",
      "[Short desc]: Mostly Sunny\n",
      "[Temperature]: High: 68 °F\n",
      "[Image desc]: Saturday: Mostly sunny, with a high near 68.\n",
      "----------------------------------------------------------------------\n",
      "[Period]: SaturdayNight\n",
      "[Short desc]: Partly Cloudy\n",
      "[Temperature]: Low: 54 °F\n",
      "[Image desc]: Saturday Night: Partly cloudy, with a low around 54.\n",
      "----------------------------------------------------------------------\n",
      "[Period]: Sunday\n",
      "[Short desc]: Mostly Sunny\n",
      "[Temperature]: High: 70 °F\n",
      "[Image desc]: Sunday: Mostly sunny, with a high near 70.\n",
      "----------------------------------------------------------------------\n",
      "[Period]: SundayNight\n",
      "[Short desc]: Mostly Cloudy\n",
      "[Temperature]: Low: 54 °F\n",
      "[Image desc]: Sunday Night: Mostly cloudy, with a low around 54.\n",
      "----------------------------------------------------------------------\n"
     ]
    }
   ],
   "source": [
    "def scarping_use_select(html):\n",
    "    bs = BeautifulSoup(html.read(), 'html.parser')\n",
    "    contents = bs.select('div.tombstone-container')\n",
    "    for info in contents:\n",
    "        print(f\"[Period]: {info.select_one('p.period-name').text}\")\n",
    "        print(f\"[Short desc]: {info.select_one('p.short-desc').text}\")\n",
    "        print(f\"[Temperature]: {info.select_one('p.temp').text}\")\n",
    "        print(f\"[Image desc]: {info.select_one('p > img')['title']}\")\n",
    "        print('-'*70)\n",
    "scarping_use_select(html)"
   ]
  },
  {
   "cell_type": "code",
   "execution_count": 28,
   "id": "0f935f93",
   "metadata": {},
   "outputs": [],
   "source": [
    "html = urlopen('https://forecast.weather.gov/MapClick.php?lat=37.7772&lon=-122.4168#.Ytjs6rbP1PY')"
   ]
  },
  {
   "cell_type": "code",
   "execution_count": 29,
   "id": "06098c8c",
   "metadata": {},
   "outputs": [
    {
     "name": "stdout",
     "output_type": "stream",
     "text": [
      "[Period]: Overnight\n",
      "[Short desc]: Mostly Cloudy\n",
      "[Temperature]: Overnight\n",
      "[Image desc]: Overnight: Mostly cloudy, with a steady temperature around 56. West southwest wind 15 to 17 mph, with gusts as high as 22 mph. \n",
      "----------------------------------------------------------------------\n",
      "[Period]: Thursday\n",
      "[Short desc]: Partly Sunnythen Sunnyand Breezy\n",
      "[Temperature]: Thursday\n",
      "[Image desc]: Thursday: Mostly cloudy through mid morning, then gradual clearing, with a high near 68. Breezy, with a west wind 13 to 18 mph increasing to 21 to 26 mph in the afternoon. Winds could gust as high as 34 mph. \n",
      "----------------------------------------------------------------------\n",
      "[Period]: ThursdayNight\n",
      "[Short desc]: Mostly Clearand Breezythen PartlyCloudy\n",
      "[Temperature]: ThursdayNight\n",
      "[Image desc]: Thursday Night: Partly cloudy, with a low around 55. Breezy, with a west wind 17 to 23 mph, with gusts as high as 30 mph. \n",
      "----------------------------------------------------------------------\n",
      "[Period]: Friday\n",
      "[Short desc]: Sunny andBreezy\n",
      "[Temperature]: Friday\n",
      "[Image desc]: Friday: Sunny, with a high near 68. Breezy, with a west wind 20 to 26 mph, with gusts as high as 34 mph. \n",
      "----------------------------------------------------------------------\n",
      "[Period]: FridayNight\n",
      "[Short desc]: Partly Cloudyand Breezy\n",
      "[Temperature]: FridayNight\n",
      "[Image desc]: Friday Night: Partly cloudy, with a low around 54. Breezy, with a west wind 17 to 25 mph, with gusts as high as 33 mph. \n",
      "----------------------------------------------------------------------\n",
      "[Period]: Saturday\n",
      "[Short desc]: Mostly Sunny\n",
      "[Temperature]: Saturday\n",
      "[Image desc]: Saturday: Mostly sunny, with a high near 68.\n",
      "----------------------------------------------------------------------\n",
      "[Period]: SaturdayNight\n",
      "[Short desc]: Partly Cloudy\n",
      "[Temperature]: SaturdayNight\n",
      "[Image desc]: Saturday Night: Partly cloudy, with a low around 54.\n",
      "----------------------------------------------------------------------\n",
      "[Period]: Sunday\n",
      "[Short desc]: Mostly Sunny\n",
      "[Temperature]: Sunday\n",
      "[Image desc]: Sunday: Mostly sunny, with a high near 70.\n",
      "----------------------------------------------------------------------\n",
      "[Period]: SundayNight\n",
      "[Short desc]: Mostly Cloudy\n",
      "[Temperature]: SundayNight\n",
      "[Image desc]: Sunday Night: Mostly cloudy, with a low around 54.\n",
      "----------------------------------------------------------------------\n"
     ]
    }
   ],
   "source": [
    "\n",
    "def scraping_use_find(html):\n",
    "    bs2 = BeautifulSoup(html.read(), 'html.parser')\n",
    "    contents2 = bs2.find_all('div', {'class':'tombstone-container'})\n",
    "    for info2 in contents2:\n",
    "        print(f\"[Period]: {info2.find('p', {'class':'period-name'}).text}\")\n",
    "        print(f\"[Short desc]: {info2.find('p', {'class':'short-desc'}).text}\")\n",
    "        print(f\"[Temperature]: {info2.find('p', {'class':'period-name'}).text}\")\n",
    "        print(f\"[Image desc]: {info2.find('img')['title']}\")\n",
    "        print('-'*70)\n",
    "scraping_use_find(html)"
   ]
  },
  {
   "cell_type": "code",
   "execution_count": null,
   "id": "1cad271b",
   "metadata": {},
   "outputs": [],
   "source": []
  }
 ],
 "metadata": {
  "kernelspec": {
   "display_name": "Python 3 (ipykernel)",
   "language": "python",
   "name": "python3"
  },
  "language_info": {
   "codemirror_mode": {
    "name": "ipython",
    "version": 3
   },
   "file_extension": ".py",
   "mimetype": "text/x-python",
   "name": "python",
   "nbconvert_exporter": "python",
   "pygments_lexer": "ipython3",
   "version": "3.9.12"
  }
 },
 "nbformat": 4,
 "nbformat_minor": 5
}
