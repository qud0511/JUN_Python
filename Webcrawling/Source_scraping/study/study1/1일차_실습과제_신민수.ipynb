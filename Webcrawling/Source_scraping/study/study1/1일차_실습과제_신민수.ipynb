{
 "cells": [
  {
   "cell_type": "markdown",
   "metadata": {},
   "source": [
    "## 과제 : National Weather Service Scraping_0721"
   ]
  },
  {
   "cell_type": "code",
   "execution_count": 170,
   "metadata": {},
   "outputs": [],
   "source": [
    "# 모듈 설정\n",
    "from urllib.request import urlopen\n",
    "from bs4 import BeautifulSoup\n",
    "\n",
    "# html 불러오기\n",
    "html = urlopen('https://forecast.weather.gov/MapClick.php?lat=37.7772&lon=-122.4168#.YsuIHi9yxTZ')\n",
    "bs = BeautifulSoup(html.read(),'html.parser')"
   ]
  },
  {
   "cell_type": "markdown",
   "metadata": {},
   "source": [
    "## [ find 방식 ]"
   ]
  },
  {
   "cell_type": "code",
   "execution_count": 161,
   "metadata": {},
   "outputs": [
    {
     "name": "stdout",
     "output_type": "stream",
     "text": [
      "National\tWeather\tService\tScraping\n",
      "--------------------------------------------------\n",
      "[find\t함수 이용]\n",
      "[Period]:Overnight\n",
      "[Short desc]:Mostly Cloudy\n",
      "[Temperature]:Low: 56 °F\n",
      "[Image desc]:Overnight: Mostly cloudy, with a steady temperature around 56. West southwest wind 15 to 17 mph, with gusts as high as 22 mph. \n",
      "------------------------------------------------------------------------------------------------------------------------------------------------------\n",
      "[Period]:Thursday\n",
      "[Short desc]:Partly Sunnythen Sunnyand Breezy\n",
      "[Temperature]:High: 68 °F\n",
      "[Image desc]:Thursday: Mostly cloudy through mid morning, then gradual clearing, with a high near 68. Breezy, with a west wind 13 to 18 mph increasing to 21 to 26 mph in the afternoon. Winds could gust as high as 34 mph. \n",
      "------------------------------------------------------------------------------------------------------------------------------------------------------\n",
      "[Period]:ThursdayNight\n",
      "[Short desc]:Mostly Clearand Breezythen PartlyCloudy\n",
      "[Temperature]:Low: 55 °F\n",
      "[Image desc]:Thursday Night: Partly cloudy, with a low around 55. Breezy, with a west wind 17 to 23 mph, with gusts as high as 30 mph. \n",
      "------------------------------------------------------------------------------------------------------------------------------------------------------\n",
      "[Period]:Friday\n",
      "[Short desc]:Sunny andBreezy\n",
      "[Temperature]:High: 68 °F\n",
      "[Image desc]:Friday: Sunny, with a high near 68. Breezy, with a west wind 20 to 26 mph, with gusts as high as 34 mph. \n",
      "------------------------------------------------------------------------------------------------------------------------------------------------------\n",
      "[Period]:FridayNight\n",
      "[Short desc]:Partly Cloudyand Breezy\n",
      "[Temperature]:Low: 54 °F\n",
      "[Image desc]:Friday Night: Partly cloudy, with a low around 54. Breezy, with a west wind 17 to 25 mph, with gusts as high as 33 mph. \n",
      "------------------------------------------------------------------------------------------------------------------------------------------------------\n",
      "[Period]:Saturday\n",
      "[Short desc]:Mostly Sunny\n",
      "[Temperature]:High: 68 °F\n",
      "[Image desc]:Saturday: Mostly sunny, with a high near 68.\n",
      "------------------------------------------------------------------------------------------------------------------------------------------------------\n",
      "[Period]:SaturdayNight\n",
      "[Short desc]:Partly Cloudy\n",
      "[Temperature]:Low: 54 °F\n",
      "[Image desc]:Saturday Night: Partly cloudy, with a low around 54.\n",
      "------------------------------------------------------------------------------------------------------------------------------------------------------\n",
      "[Period]:Sunday\n",
      "[Short desc]:Mostly Sunny\n",
      "[Temperature]:High: 70 °F\n",
      "[Image desc]:Sunday: Mostly sunny, with a high near 70.\n",
      "------------------------------------------------------------------------------------------------------------------------------------------------------\n",
      "[Period]:SundayNight\n",
      "[Short desc]:Mostly Cloudy\n",
      "[Temperature]:Low: 54 °F\n",
      "[Image desc]:Sunday Night: Mostly cloudy, with a low around 54.\n",
      "------------------------------------------------------------------------------------------------------------------------------------------------------\n"
     ]
    }
   ],
   "source": [
    "def scraping_use_find():    \n",
    "    html = urlopen('https://forecast.weather.gov/MapClick.php?lat=37.7772&lon=-122.4168#.YsuIHi9yxTZ')\n",
    "    bs = BeautifulSoup(html.read(),'html.parser')\n",
    "    \n",
    "    period_name_list=[]\n",
    "    short_desc_list=[]\n",
    "    temp_list=[]\n",
    "    title_list=[]\n",
    "        \n",
    "    data1= bs.find_all('p',{'class' :'period-name'})\n",
    "    for i in data1:\n",
    "        period_name_list.append(i.text) \n",
    "    \n",
    "    data1= bs.find_all('p',{'class' :'short-desc'})\n",
    "    for i in data1:\n",
    "        short_desc_list.append(i.text)     \n",
    "    \n",
    "    data1= bs.find_all('p',{'class' :'temp'})\n",
    "    for i in data1:\n",
    "        temp_list.append(i.text) \n",
    "    \n",
    "    data1= bs.find_all('img',{'class':'forecast-icon'})\n",
    "    for i in data1:\n",
    "        title_list.append(i['title'])\n",
    "        \n",
    "    print('National\tWeather\tService\tScraping')\n",
    "    print('-'*50)\n",
    "    print('[find\t함수 이용]')\n",
    "    \n",
    "    for i in range(9):\n",
    "        print(f'[Period]:{period_name_list[i]}')\n",
    "        print(f'[Short desc]:{short_desc_list[i]}')\n",
    "        print(f'[Temperature]:{temp_list[i]}')\n",
    "        print(f'[Image desc]:{title_list[i]}')\n",
    "        print(\"-\"*150)\n",
    "scraping_use_find()    "
   ]
  },
  {
   "cell_type": "markdown",
   "metadata": {},
   "source": [
    "## [ select 방식 ]"
   ]
  },
  {
   "cell_type": "code",
   "execution_count": 169,
   "metadata": {},
   "outputs": [
    {
     "name": "stdout",
     "output_type": "stream",
     "text": [
      "National\tWeather\tService\tScraping\n",
      "--------------------------------------------------\n",
      "[find\t함수 이용]\n",
      "[Period]:Overnight\n",
      "[Short desc]:Mostly Cloudy\n",
      "[Temperature]:Low: 56 °F\n",
      "[Image desc]:Overnight: Mostly cloudy, with a steady temperature around 56. West southwest wind 15 to 17 mph, with gusts as high as 22 mph. \n",
      "------------------------------------------------------------------------------------------------------------------------------------------------------\n",
      "[Period]:Thursday\n",
      "[Short desc]:Partly Sunnythen Sunnyand Breezy\n",
      "[Temperature]:High: 68 °F\n",
      "[Image desc]:Thursday: Mostly cloudy through mid morning, then gradual clearing, with a high near 68. Breezy, with a west wind 13 to 18 mph increasing to 21 to 26 mph in the afternoon. Winds could gust as high as 34 mph. \n",
      "------------------------------------------------------------------------------------------------------------------------------------------------------\n",
      "[Period]:ThursdayNight\n",
      "[Short desc]:Mostly Clearand Breezythen PartlyCloudy\n",
      "[Temperature]:Low: 55 °F\n",
      "[Image desc]:Thursday Night: Partly cloudy, with a low around 55. Breezy, with a west wind 17 to 23 mph, with gusts as high as 30 mph. \n",
      "------------------------------------------------------------------------------------------------------------------------------------------------------\n",
      "[Period]:Friday\n",
      "[Short desc]:Sunny andBreezy\n",
      "[Temperature]:High: 68 °F\n",
      "[Image desc]:Friday: Sunny, with a high near 68. Breezy, with a west wind 20 to 26 mph, with gusts as high as 34 mph. \n",
      "------------------------------------------------------------------------------------------------------------------------------------------------------\n",
      "[Period]:FridayNight\n",
      "[Short desc]:Partly Cloudyand Breezy\n",
      "[Temperature]:Low: 54 °F\n",
      "[Image desc]:Friday Night: Partly cloudy, with a low around 54. Breezy, with a west wind 17 to 25 mph, with gusts as high as 33 mph. \n",
      "------------------------------------------------------------------------------------------------------------------------------------------------------\n",
      "[Period]:Saturday\n",
      "[Short desc]:Mostly Sunny\n",
      "[Temperature]:High: 68 °F\n",
      "[Image desc]:Saturday: Mostly sunny, with a high near 68.\n",
      "------------------------------------------------------------------------------------------------------------------------------------------------------\n",
      "[Period]:SaturdayNight\n",
      "[Short desc]:Partly Cloudy\n",
      "[Temperature]:Low: 54 °F\n",
      "[Image desc]:Saturday Night: Partly cloudy, with a low around 54.\n",
      "------------------------------------------------------------------------------------------------------------------------------------------------------\n",
      "[Period]:Sunday\n",
      "[Short desc]:Mostly Sunny\n",
      "[Temperature]:High: 70 °F\n",
      "[Image desc]:Sunday: Mostly sunny, with a high near 70.\n",
      "------------------------------------------------------------------------------------------------------------------------------------------------------\n",
      "[Period]:SundayNight\n",
      "[Short desc]:Mostly Cloudy\n",
      "[Temperature]:Low: 54 °F\n",
      "[Image desc]:Sunday Night: Mostly cloudy, with a low around 54.\n",
      "------------------------------------------------------------------------------------------------------------------------------------------------------\n"
     ]
    }
   ],
   "source": [
    "def scraping_use_select():\n",
    "    html = urlopen('https://forecast.weather.gov/MapClick.php?lat=37.7772&lon=-122.4168#.YsuIHi9yxTZ')\n",
    "    bs = BeautifulSoup(html.read(),'html.parser')\n",
    "    \n",
    "    period_name_list=[]\n",
    "    short_desc_list=[]\n",
    "    temp_list=[]\n",
    "    title_list=[]\n",
    "\n",
    "    data1 = bs.select('p.period-name')\n",
    "    for i in data1:\n",
    "        period_name_list.append(i.text)\n",
    "\n",
    "    data1 = bs.select('p.short-desc')\n",
    "    for i in data1:\n",
    "        short_desc_list.append(i.text)\n",
    "\n",
    "    data1 = bs.select('p.temp')\n",
    "    for i in data1:\n",
    "        temp_list.append(i.text)\n",
    "\n",
    "    data1 = bs.select('img.forecast-icon')\n",
    "    for i in data1:\n",
    "        title_list.append(i['title'])\n",
    "\n",
    "    print('National\tWeather\tService\tScraping')\n",
    "    print('-'*50)\n",
    "    print('[find\t함수 이용]')\n",
    "        \n",
    "    for i in range(9):\n",
    "        print(f'[Period]:{period_name_list[i]}')\n",
    "        print(f'[Short desc]:{short_desc_list[i]}')\n",
    "        print(f'[Temperature]:{temp_list[i]}')\n",
    "        print(f'[Image desc]:{title_list[i]}')\n",
    "        print(\"-\"*150)\n",
    "        \n",
    "scraping_use_select()   "
   ]
  },
  {
   "cell_type": "code",
   "execution_count": null,
   "metadata": {},
   "outputs": [],
   "source": []
  },
  {
   "cell_type": "code",
   "execution_count": null,
   "metadata": {},
   "outputs": [],
   "source": []
  }
 ],
 "metadata": {
  "kernelspec": {
   "display_name": "Python 3.9.12 ('base')",
   "language": "python",
   "name": "python3"
  },
  "language_info": {
   "codemirror_mode": {
    "name": "ipython",
    "version": 3
   },
   "file_extension": ".py",
   "mimetype": "text/x-python",
   "name": "python",
   "nbconvert_exporter": "python",
   "pygments_lexer": "ipython3",
   "version": "3.9.12"
  },
  "orig_nbformat": 4,
  "vscode": {
   "interpreter": {
    "hash": "ad2bdc8ecc057115af97d19610ffacc2b4e99fae6737bb82f5d7fb13d2f2c186"
   }
  }
 },
 "nbformat": 4,
 "nbformat_minor": 2
}
