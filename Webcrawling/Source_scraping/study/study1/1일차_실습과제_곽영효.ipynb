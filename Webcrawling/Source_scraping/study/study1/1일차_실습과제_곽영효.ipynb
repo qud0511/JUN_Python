{
 "cells": [
  {
   "cell_type": "code",
   "execution_count": 225,
   "id": "ebafe85f",
   "metadata": {},
   "outputs": [],
   "source": [
    "from urllib.request import urlopen\n",
    "from bs4 import BeautifulSoup"
   ]
  },
  {
   "cell_type": "code",
   "execution_count": 226,
   "id": "f283d97c",
   "metadata": {},
   "outputs": [],
   "source": [
    "# html = urlopen('https://forecast.weather.gov/MapClick.php?lat=37.7772&lon=-122.4168#.YtjtP3ZBxPY')\n",
    "# bs = BeautifulSoup(html.read(), 'html.parser')\n",
    "# print(bs)"
   ]
  },
  {
   "cell_type": "code",
   "execution_count": 227,
   "id": "abc5c638",
   "metadata": {},
   "outputs": [],
   "source": [
    "# period_name = bs.select('p.period-name')\n",
    "# period_name"
   ]
  },
  {
   "cell_type": "code",
   "execution_count": 228,
   "id": "010022db",
   "metadata": {},
   "outputs": [],
   "source": [
    "# list = bs.select('div.tombstone-container')\n",
    "# list"
   ]
  },
  {
   "cell_type": "code",
   "execution_count": 229,
   "id": "4b729fe9",
   "metadata": {},
   "outputs": [],
   "source": [
    "# title = []\n",
    "# for i in range(len(list)): title.append(list[i].select_one('img')['title'])"
   ]
  },
  {
   "cell_type": "code",
   "execution_count": 230,
   "id": "e4069826",
   "metadata": {},
   "outputs": [],
   "source": [
    "# list[0]"
   ]
  },
  {
   "cell_type": "code",
   "execution_count": 231,
   "id": "a378e294",
   "metadata": {},
   "outputs": [],
   "source": [
    "# bs.find_all('img')\n",
    "# list[0].find_all('img')"
   ]
  },
  {
   "cell_type": "code",
   "execution_count": 232,
   "id": "b78ebbcc",
   "metadata": {},
   "outputs": [],
   "source": [
    "# list[0].find('img')['title']"
   ]
  },
  {
   "cell_type": "code",
   "execution_count": 233,
   "id": "aca757e0",
   "metadata": {},
   "outputs": [],
   "source": [
    "# list[0].find('p', {'img':'title'})"
   ]
  },
  {
   "cell_type": "code",
   "execution_count": 234,
   "id": "33466b4b",
   "metadata": {},
   "outputs": [],
   "source": [
    "# title = []\n",
    "# for i in range(len(list)): img_title.append(list[i].find('p', {'class' = 'img'})['title'])"
   ]
  },
  {
   "cell_type": "code",
   "execution_count": 235,
   "id": "9bbe7808",
   "metadata": {},
   "outputs": [],
   "source": [
    "# for i in period_name: print(i.text)"
   ]
  },
  {
   "cell_type": "code",
   "execution_count": 236,
   "id": "d71687b8",
   "metadata": {},
   "outputs": [],
   "source": [
    "def scraping_use_select(html):\n",
    "    url = urlopen(html)\n",
    "    bs = BeautifulSoup(url.read(), 'html.parser')\n",
    "    period_name = bs.select('p.period-name')\n",
    "    short_desc = bs.select('p.short-desc')\n",
    "    temp = bs.select('p.temp')\n",
    "    list = bs.select('div.tombstone-container')\n",
    "    img_title = []\n",
    "    \n",
    "    for i in range(len(list)): img_title.append(list[i].select_one('img')['title'])\n",
    "        \n",
    "    print('National Weather Service Scraping')\n",
    "    print('----------------------------------')\n",
    "    print('[select 함수 이용]')\n",
    "    print('-------------------------------------------------------------------')\n",
    "    for i in range(len(temp)):\n",
    "        print(f'[Period] : {period_name[i].text}')\n",
    "        print(f'[Short desc] : {short_desc[i].text}')\n",
    "        print(f'[Temperature] : {temp[i].text}')\n",
    "        print(f'[Image desc] : {img_title[i]}')\n",
    "        print('-------------------------------------------------------------------')"
   ]
  },
  {
   "cell_type": "code",
   "execution_count": 237,
   "id": "6683c0fe",
   "metadata": {},
   "outputs": [
    {
     "name": "stdout",
     "output_type": "stream",
     "text": [
      "National Weather Service Scraping\n",
      "----------------------------------\n",
      "[select 함수 이용]\n",
      "-------------------------------------------------------------------\n",
      "[Period] : Overnight\n",
      "[Short desc] : Mostly Cloudy\n",
      "[Temperature] : Low: 56 °F\n",
      "[Image desc] : Overnight: Mostly cloudy, with a steady temperature around 56. West southwest wind 15 to 17 mph, with gusts as high as 22 mph. \n",
      "-------------------------------------------------------------------\n",
      "[Period] : Thursday\n",
      "[Short desc] : Partly Sunnythen Sunnyand Breezy\n",
      "[Temperature] : High: 68 °F\n",
      "[Image desc] : Thursday: Mostly cloudy through mid morning, then gradual clearing, with a high near 68. Breezy, with a west wind 13 to 18 mph increasing to 21 to 26 mph in the afternoon. Winds could gust as high as 34 mph. \n",
      "-------------------------------------------------------------------\n",
      "[Period] : ThursdayNight\n",
      "[Short desc] : Mostly Clearand Breezythen PartlyCloudy\n",
      "[Temperature] : Low: 55 °F\n",
      "[Image desc] : Thursday Night: Partly cloudy, with a low around 55. Breezy, with a west wind 17 to 23 mph, with gusts as high as 30 mph. \n",
      "-------------------------------------------------------------------\n",
      "[Period] : Friday\n",
      "[Short desc] : Sunny andBreezy\n",
      "[Temperature] : High: 68 °F\n",
      "[Image desc] : Friday: Sunny, with a high near 68. Breezy, with a west wind 20 to 26 mph, with gusts as high as 34 mph. \n",
      "-------------------------------------------------------------------\n",
      "[Period] : FridayNight\n",
      "[Short desc] : Partly Cloudyand Breezy\n",
      "[Temperature] : Low: 54 °F\n",
      "[Image desc] : Friday Night: Partly cloudy, with a low around 54. Breezy, with a west wind 17 to 25 mph, with gusts as high as 33 mph. \n",
      "-------------------------------------------------------------------\n",
      "[Period] : Saturday\n",
      "[Short desc] : Mostly Sunny\n",
      "[Temperature] : High: 68 °F\n",
      "[Image desc] : Saturday: Mostly sunny, with a high near 68.\n",
      "-------------------------------------------------------------------\n",
      "[Period] : SaturdayNight\n",
      "[Short desc] : Partly Cloudy\n",
      "[Temperature] : Low: 54 °F\n",
      "[Image desc] : Saturday Night: Partly cloudy, with a low around 54.\n",
      "-------------------------------------------------------------------\n",
      "[Period] : Sunday\n",
      "[Short desc] : Mostly Sunny\n",
      "[Temperature] : High: 70 °F\n",
      "[Image desc] : Sunday: Mostly sunny, with a high near 70.\n",
      "-------------------------------------------------------------------\n",
      "[Period] : SundayNight\n",
      "[Short desc] : Mostly Cloudy\n",
      "[Temperature] : Low: 54 °F\n",
      "[Image desc] : Sunday Night: Mostly cloudy, with a low around 54.\n",
      "-------------------------------------------------------------------\n"
     ]
    }
   ],
   "source": [
    "scraping_use_select('https://forecast.weather.gov/MapClick.php?lat=37.7772&lon=-122.4168#.YtjtP3ZBxPY')"
   ]
  },
  {
   "cell_type": "code",
   "execution_count": 238,
   "id": "eee63ea0",
   "metadata": {},
   "outputs": [],
   "source": [
    "def scraping_use_find(html):\n",
    "    url = urlopen(html)\n",
    "    bs = BeautifulSoup(url.read(), 'html.parser')\n",
    "    period_name = bs.find_all('p', {'class' : 'period-name'})\n",
    "    short_desc = bs.find_all('p', {'class' : 'short-desc'})\n",
    "    temp = bs.find_all('p', {'class' : 'temp'})\n",
    "    list = bs.find_all('div', {'class' : 'tombstone-container'})\n",
    "    img_title = []\n",
    "    \n",
    "    for i in range(len(list)): img_title.append(list[i].find('img')['title'])\n",
    "        \n",
    "    print('National Weather Service Scraping')\n",
    "    print('----------------------------------')\n",
    "    print('[find 함수 이용]')\n",
    "    print('-------------------------------------------------------------------')\n",
    "    for i in range(len(temp)):\n",
    "        print(f'[Period] : {period_name[i].text}')\n",
    "        print(f'[Short desc] : {short_desc[i].text}')\n",
    "        print(f'[Temperature] : {temp[i].text}')\n",
    "        print(f'[Image desc] : {img_title[i]}')\n",
    "        print('-------------------------------------------------------------------')"
   ]
  },
  {
   "cell_type": "code",
   "execution_count": 239,
   "id": "0bc03338",
   "metadata": {},
   "outputs": [
    {
     "name": "stdout",
     "output_type": "stream",
     "text": [
      "National Weather Service Scraping\n",
      "----------------------------------\n",
      "[find 함수 이용]\n",
      "-------------------------------------------------------------------\n",
      "[Period] : Overnight\n",
      "[Short desc] : Mostly Cloudy\n",
      "[Temperature] : Low: 56 °F\n",
      "[Image desc] : Overnight: Mostly cloudy, with a steady temperature around 56. West southwest wind 15 to 17 mph, with gusts as high as 22 mph. \n",
      "-------------------------------------------------------------------\n",
      "[Period] : Thursday\n",
      "[Short desc] : Partly Sunnythen Sunnyand Breezy\n",
      "[Temperature] : High: 68 °F\n",
      "[Image desc] : Thursday: Mostly cloudy through mid morning, then gradual clearing, with a high near 68. Breezy, with a west wind 13 to 18 mph increasing to 21 to 26 mph in the afternoon. Winds could gust as high as 34 mph. \n",
      "-------------------------------------------------------------------\n",
      "[Period] : ThursdayNight\n",
      "[Short desc] : Mostly Clearand Breezythen PartlyCloudy\n",
      "[Temperature] : Low: 55 °F\n",
      "[Image desc] : Thursday Night: Partly cloudy, with a low around 55. Breezy, with a west wind 17 to 23 mph, with gusts as high as 30 mph. \n",
      "-------------------------------------------------------------------\n",
      "[Period] : Friday\n",
      "[Short desc] : Sunny andBreezy\n",
      "[Temperature] : High: 68 °F\n",
      "[Image desc] : Friday: Sunny, with a high near 68. Breezy, with a west wind 20 to 26 mph, with gusts as high as 34 mph. \n",
      "-------------------------------------------------------------------\n",
      "[Period] : FridayNight\n",
      "[Short desc] : Partly Cloudyand Breezy\n",
      "[Temperature] : Low: 54 °F\n",
      "[Image desc] : Friday Night: Partly cloudy, with a low around 54. Breezy, with a west wind 17 to 25 mph, with gusts as high as 33 mph. \n",
      "-------------------------------------------------------------------\n",
      "[Period] : Saturday\n",
      "[Short desc] : Mostly Sunny\n",
      "[Temperature] : High: 68 °F\n",
      "[Image desc] : Saturday: Mostly sunny, with a high near 68.\n",
      "-------------------------------------------------------------------\n",
      "[Period] : SaturdayNight\n",
      "[Short desc] : Partly Cloudy\n",
      "[Temperature] : Low: 54 °F\n",
      "[Image desc] : Saturday Night: Partly cloudy, with a low around 54.\n",
      "-------------------------------------------------------------------\n",
      "[Period] : Sunday\n",
      "[Short desc] : Mostly Sunny\n",
      "[Temperature] : High: 70 °F\n",
      "[Image desc] : Sunday: Mostly sunny, with a high near 70.\n",
      "-------------------------------------------------------------------\n",
      "[Period] : SundayNight\n",
      "[Short desc] : Mostly Cloudy\n",
      "[Temperature] : Low: 54 °F\n",
      "[Image desc] : Sunday Night: Mostly cloudy, with a low around 54.\n",
      "-------------------------------------------------------------------\n"
     ]
    }
   ],
   "source": [
    "scraping_use_find('https://forecast.weather.gov/MapClick.php?lat=37.7772&lon=-122.4168#.YtjtP3ZBxPY')"
   ]
  },
  {
   "cell_type": "code",
   "execution_count": null,
   "id": "2fb2262b",
   "metadata": {},
   "outputs": [],
   "source": []
  }
 ],
 "metadata": {
  "kernelspec": {
   "display_name": "Python 3 (ipykernel)",
   "language": "python",
   "name": "python3"
  },
  "language_info": {
   "codemirror_mode": {
    "name": "ipython",
    "version": 3
   },
   "file_extension": ".py",
   "mimetype": "text/x-python",
   "name": "python",
   "nbconvert_exporter": "python",
   "pygments_lexer": "ipython3",
   "version": "3.9.12"
  }
 },
 "nbformat": 4,
 "nbformat_minor": 5
}
