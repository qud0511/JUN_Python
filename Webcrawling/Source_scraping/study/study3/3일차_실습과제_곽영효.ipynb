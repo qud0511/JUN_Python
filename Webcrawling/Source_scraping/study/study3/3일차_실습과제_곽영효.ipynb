{
 "cells": [
  {
   "cell_type": "code",
   "execution_count": 136,
   "id": "5cf227a0",
   "metadata": {},
   "outputs": [],
   "source": [
    "from bs4 import BeautifulSoup\n",
    "from urllib.request import urlopen\n",
    "import requests"
   ]
  },
  {
   "cell_type": "code",
   "execution_count": 142,
   "id": "fa909699",
   "metadata": {},
   "outputs": [],
   "source": [
    "def title():\n",
    "    print('-'*40)\n",
    "    print('[ 네이버 코스피 상위 10대 기업 목록 ]')\n",
    "    print('-'*40)"
   ]
  },
  {
   "cell_type": "code",
   "execution_count": 143,
   "id": "334e038a",
   "metadata": {},
   "outputs": [],
   "source": [
    "def show_list():\n",
    "    for i in range(10):\n",
    "        company_name.append(bs.find_all('a', class_ = 'tltle')[i].text)\n",
    "        url.append('https://finance.naver.com' + bs.find_all(\"a\", class_ = \"tltle\")[i][\"href\"])\n",
    "        print(f'[ {i+1}] {company_name[i]}')"
   ]
  },
  {
   "cell_type": "code",
   "execution_count": 144,
   "id": "46c6896f",
   "metadata": {},
   "outputs": [],
   "source": [
    "def show_detail():\n",
    "    while True:\n",
    "        detail_name = []\n",
    "        detail_value = []    \n",
    "\n",
    "        select = int(input('주가를 검색할 기업의 번호를 입력하세요(-1: 종료): '))\n",
    "        if select == -1:\n",
    "            print('프로그램 종료')\n",
    "            break\n",
    "        elif select in range(1, 11):\n",
    "            html = urlopen(url[select-1])\n",
    "            bs2= BeautifulSoup(html, 'html.parser')\n",
    "            \n",
    "            for i in [1,2,3,4,5,6,8]:\n",
    "                detail_name.append(bs2.find_all('dd')[i].text.split()[0])\n",
    "                detail_value.append(bs2.find_all('dd')[i].text.split()[1])\n",
    "            \n",
    "            print(url[select-1])\n",
    "            \n",
    "            for i in range(7):\n",
    "                print(f'{detail_name[i]}: {detail_value[i]}')\n",
    "\n",
    "        else: print('잘못된 접근입니다.')"
   ]
  },
  {
   "cell_type": "code",
   "execution_count": 145,
   "id": "efb908d2",
   "metadata": {},
   "outputs": [],
   "source": [
    "def main():\n",
    "    from bs4 import BeautifulSoup\n",
    "    from urllib.request import urlopen\n",
    "    import requests\n",
    "    \n",
    "    company_name = []\n",
    "    url = []\n",
    "    \n",
    "    html = urlopen('https://finance.naver.com/sise/sise_market_sum.naver')\n",
    "    bs = BeautifulSoup(html, 'html.parser')\n",
    "    \n",
    "    title()\n",
    "    show_list()\n",
    "    show_detail()"
   ]
  },
  {
   "cell_type": "code",
   "execution_count": 146,
   "id": "e3e1f0c7",
   "metadata": {},
   "outputs": [
    {
     "name": "stdout",
     "output_type": "stream",
     "text": [
      "----------------------------------------\n",
      "[ 네이버 코스피 상위 10대 기업 목록 ]\n",
      "----------------------------------------\n",
      "[ 1] 삼성전자\n",
      "[ 2] LG에너지솔루션\n",
      "[ 3] SK하이닉스\n",
      "[ 4] 삼성바이오로직스\n",
      "[ 5] 삼성전자우\n",
      "[ 6] 현대차\n",
      "[ 7] NAVER\n",
      "[ 8] LG화학\n",
      "[ 9] 삼성SDI\n",
      "[ 10] 기아\n",
      "주가를 검색할 기업의 번호를 입력하세요(-1: 종료): 0\n",
      "잘못된 접근입니다.\n",
      "주가를 검색할 기업의 번호를 입력하세요(-1: 종료): 1\n",
      "https://finance.naver.com/item/main.naver?code=005930\n",
      "종목명: 삼성전자\n",
      "종목코드: 005930\n",
      "현재가: 61,100\n",
      "전일가: 61,300\n",
      "시가: 60,900\n",
      "고가: 61,900\n",
      "저가: 60,800\n",
      "주가를 검색할 기업의 번호를 입력하세요(-1: 종료): 8\n",
      "https://finance.naver.com/item/main.naver?code=051910\n",
      "종목명: LG화학\n",
      "종목코드: 051910\n",
      "현재가: 556,000\n",
      "전일가: 561,000\n",
      "시가: 562,000\n",
      "고가: 572,000\n",
      "저가: 552,000\n",
      "주가를 검색할 기업의 번호를 입력하세요(-1: 종료): -1\n",
      "프로그램 종료\n"
     ]
    }
   ],
   "source": [
    "main()"
   ]
  },
  {
   "cell_type": "code",
   "execution_count": null,
   "id": "f27a0e63",
   "metadata": {},
   "outputs": [],
   "source": []
  }
 ],
 "metadata": {
  "kernelspec": {
   "display_name": "Python 3 (ipykernel)",
   "language": "python",
   "name": "python3"
  },
  "language_info": {
   "codemirror_mode": {
    "name": "ipython",
    "version": 3
   },
   "file_extension": ".py",
   "mimetype": "text/x-python",
   "name": "python",
   "nbconvert_exporter": "python",
   "pygments_lexer": "ipython3",
   "version": "3.9.12"
  }
 },
 "nbformat": 4,
 "nbformat_minor": 5
}
