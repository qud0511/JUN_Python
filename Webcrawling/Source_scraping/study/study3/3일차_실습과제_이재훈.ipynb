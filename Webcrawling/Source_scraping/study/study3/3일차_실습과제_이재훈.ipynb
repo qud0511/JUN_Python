{
 "cells": [
  {
   "cell_type": "code",
   "execution_count": 1,
   "metadata": {},
   "outputs": [],
   "source": [
    "# 모듈 불러오기\n",
    "import requests\n",
    "from bs4 import BeautifulSoup\n",
    "import time"
   ]
  },
  {
   "cell_type": "code",
   "execution_count": 2,
   "metadata": {},
   "outputs": [],
   "source": [
    "def getData(): \n",
    "    data_list = [] # 데이터를 저장할 리스트 생성\n",
    "    html = requests.get('https://finance.naver.com/sise/sise_market_sum.naver') # 시가총액 페이지의 html 저장\n",
    "    soup = BeautifulSoup(html.text, 'html.parser') # BeautifulSoup을 이용해 html 변형\n",
    "\n",
    "    tbody_data = soup.find('tbody') # 전체 soup 데이터에서 tbody 부분만 추출\n",
    "    tbody_data_a = tbody_data.find_all('a') # tbody 부분의 데이터에서 a 태그만 추출\n",
    "\n",
    "    for i in range(0, 20, 2): # 각 링크가 2개씩 짝지어져 있으니까 2개씩 넘어가면서\n",
    "        temp_list = [] # 비어있는 임시 리스트를 준비하고\n",
    "\n",
    "        url = 'https://finance.naver.com' + (tbody_data_a[i].attrs['href']) # url 주소를 준비하고\n",
    "        temp_list.append(url) # url 주소를 임시 리스트에 추가\n",
    "\n",
    "        html = requests.get(url) # 새로운 주소의 html을 받아오고\n",
    "        soup = BeautifulSoup(html.text, 'html.parser') # BeautifulSoup을 이용해 html 변형\n",
    "\n",
    "        data_text = soup.find('dl', {'class':'blind'}).text # 전체 soup 데이터에서 tbody 부분에서 text만 추출\n",
    "        data_text = data_text.split('\\n') # data_text를 \\n을 기준으로 분리\n",
    "\n",
    "        for j in range(3,11): # 전체 data_text에서 3번째에서 10번째 요소들 중에서\n",
    "            if j == 9 : # 9번째 요소는 넘기고\n",
    "                continue\n",
    "            else :\n",
    "                temp_list.append(data_text[j].split(' ')[1]) # 나머지는 임시 리스트에 추가해주고\n",
    "\n",
    "        data_list.append(temp_list) # 전체 데이터 리스트에 임시 리스트를 추가\n",
    "\n",
    "    main(data_list) # data_list를 넘기고 main 함수 실행"
   ]
  },
  {
   "cell_type": "code",
   "execution_count": 3,
   "metadata": {},
   "outputs": [],
   "source": [
    "def main(data_list):\n",
    "    print('-'*37)\n",
    "    print('[ 네이버 코스피 상위 10대 기업 목록 ]')\n",
    "    print('-'*37)\n",
    "    for i in range(len(data_list)): # 전체 데이터리스트에서\n",
    "        print('[{0:2d}]: {1}'.format((i+1), data_list[i][1])) # 각각의 요소에서 1번째 요소로 있는 기업 명을 표시\n",
    "    time.sleep(1)\n",
    "    num_info = int(input('주가를 검색할 기업의 번호를 입력하세요(-1: 종료): ')) # 입력값을 받고\n",
    "    showInfo(num_info, data_list) # num_info와 data_list를 받아 showInfo 함수 실행\n",
    "        "
   ]
  },
  {
   "cell_type": "code",
   "execution_count": 4,
   "metadata": {},
   "outputs": [],
   "source": [
    "def showInfo(num_info, data_list):\n",
    "    text_list = ['종목명', '종목코드', '현재가', '전일가', '시가', '고가', '저가'] # 표시할 텍스트 정리\n",
    "    if num_info == -1: # 입력값이 -1 이면\n",
    "        print('프로그램 종료') # 종료\n",
    "    else : # 그외에\n",
    "        if 10 >= num_info >= 1: # 입력값이 1 ~ 10 사이면\n",
    "            num = num_info - 1 # 인덱스 값에 맞춰 -1 해주고\n",
    "            print(data_list[num][0]) # 입력받은 순서에 해당하는 요소에 0번째 요소로 있는 url 표시\n",
    "            for i in range(len(text_list)): # 표시해야되는 모든 정보들은\n",
    "                print(f'{text_list[i]} : {data_list[num][i+1]}') # 각 순서에 맞는 정보 출력\n",
    "        else : # 입력값이 -1, 1~10 이 아니면\n",
    "            print('없는 번호입니다. 다시 입력해주세요.') # 오류 메세지 출력\n",
    "        main(data_list) # 다시 main 함수 실행"
   ]
  },
  {
   "cell_type": "code",
   "execution_count": 5,
   "metadata": {},
   "outputs": [
    {
     "name": "stdout",
     "output_type": "stream",
     "text": [
      "-------------------------------------\n",
      "[ 네이버 코스피 상위 10대 기업 목록 ]\n",
      "-------------------------------------\n",
      "[ 1]: 삼성전자\n",
      "[ 2]: LG에너지솔루션\n",
      "[ 3]: SK하이닉스\n",
      "[ 4]: 삼성바이오로직스\n",
      "[ 5]: 삼성전자우\n",
      "[ 6]: 현대차\n",
      "[ 7]: NAVER\n",
      "[ 8]: LG화학\n",
      "[ 9]: 삼성SDI\n",
      "[10]: 기아\n",
      "https://finance.naver.com/item/main.naver?code=005930\n",
      "종목명 : 삼성전자\n",
      "종목코드 : 005930\n",
      "현재가 : 61,100\n",
      "전일가 : 61,300\n",
      "시가 : 60,900\n",
      "고가 : 61,900\n",
      "저가 : 60,800\n",
      "-------------------------------------\n",
      "[ 네이버 코스피 상위 10대 기업 목록 ]\n",
      "-------------------------------------\n",
      "[ 1]: 삼성전자\n",
      "[ 2]: LG에너지솔루션\n",
      "[ 3]: SK하이닉스\n",
      "[ 4]: 삼성바이오로직스\n",
      "[ 5]: 삼성전자우\n",
      "[ 6]: 현대차\n",
      "[ 7]: NAVER\n",
      "[ 8]: LG화학\n",
      "[ 9]: 삼성SDI\n",
      "[10]: 기아\n",
      "https://finance.naver.com/item/main.naver?code=035420\n",
      "종목명 : NAVER\n",
      "종목코드 : 035420\n",
      "현재가 : 248,000\n",
      "전일가 : 250,000\n",
      "시가 : 248,000\n",
      "고가 : 249,000\n",
      "저가 : 244,000\n",
      "-------------------------------------\n",
      "[ 네이버 코스피 상위 10대 기업 목록 ]\n",
      "-------------------------------------\n",
      "[ 1]: 삼성전자\n",
      "[ 2]: LG에너지솔루션\n",
      "[ 3]: SK하이닉스\n",
      "[ 4]: 삼성바이오로직스\n",
      "[ 5]: 삼성전자우\n",
      "[ 6]: 현대차\n",
      "[ 7]: NAVER\n",
      "[ 8]: LG화학\n",
      "[ 9]: 삼성SDI\n",
      "[10]: 기아\n",
      "프로그램 종료\n"
     ]
    }
   ],
   "source": [
    "getData()"
   ]
  }
 ],
 "metadata": {
  "kernelspec": {
   "display_name": "Python 3.10.5 64-bit",
   "language": "python",
   "name": "python3"
  },
  "language_info": {
   "codemirror_mode": {
    "name": "ipython",
    "version": 3
   },
   "file_extension": ".py",
   "mimetype": "text/x-python",
   "name": "python",
   "nbconvert_exporter": "python",
   "pygments_lexer": "ipython3",
   "version": "3.10.5"
  },
  "orig_nbformat": 4,
  "vscode": {
   "interpreter": {
    "hash": "bc3264bed6473cddb994cb730962305c0ca93f43985fb4825b4b36f71df5d1f3"
   }
  }
 },
 "nbformat": 4,
 "nbformat_minor": 2
}
