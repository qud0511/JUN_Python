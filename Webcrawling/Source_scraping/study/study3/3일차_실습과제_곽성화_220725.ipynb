{
 "cells": [
  {
   "cell_type": "markdown",
   "id": "1d07ec53",
   "metadata": {},
   "source": [
    "# 과제 220725\n",
    "\n",
    "1. 시가 총액 메뉴에서 상위 10개 기업 정보를 크롤링   \n",
    "    • 네이버 금융 웹사이트 : https://finance.naver.com/sise/sise_market_sum.naver\n",
    "2. 각 기업의 URL 및 기업 이름을 리스트에 저장\n",
    "3. 메뉴에서 선택한 기업의 세부 주식 정보를 화면에 출력   \n",
    "    • 크롤링 항목 7개 출력 : 종목명, 종목코드, 현재가, 전일가, 시가, 고가, 저가\n",
    "4. 사용자가 -1를 입력할 떄까지 계속 반복함"
   ]
  },
  {
   "cell_type": "code",
   "execution_count": 4,
   "id": "9150d101",
   "metadata": {},
   "outputs": [],
   "source": [
    "import requests   # 네이버 웹사이트의 한글 깨짐 문제를 방지하고자 requests 라이브러리 사용\n",
    "from bs4 import BeautifulSoup\n",
    "from selenium import webdriver\n",
    "\n",
    "# 첫번째 사이트 html 읽어오기\n",
    "driver = webdriver.Chrome('C:\\\\Users\\\\User\\\\chromedriver')\n",
    "driver.get('https://finance.naver.com/sise/sise_market_sum.naver')\n",
    "\n",
    "html = driver.page_source                    # page_source: 해당 웹페이지의 소스가 저장됨\n",
    "soup = BeautifulSoup(html, 'html.parser')\n",
    "# print(soup.prettify())                     # HTML 소스를 보기 좋게 출력\n",
    "\n",
    "driver.quit()         # driver종료"
   ]
  },
  {
   "cell_type": "code",
   "execution_count": 5,
   "id": "3d722365",
   "metadata": {},
   "outputs": [],
   "source": [
    "# 첫번째 사이트 범위 줄이기\n",
    "list = soup.select_one('div.box_type_l > table > tbody')\n",
    "# print(list)\n",
    "\n",
    "# 상위 10대 기업 목록에 담기\n",
    "top10_name = []\n",
    "top10_rink = []\n",
    "\n",
    "for i in range(10):\n",
    "    top10_name.append(list.select('td > a.tltle')[i].text)\n",
    "    top10_rink.append(list.select('td > a.tltle')[i]['href'])\n",
    "    # print(top10_name[i], top10_rink[i])"
   ]
  },
  {
   "cell_type": "code",
   "execution_count": 6,
   "id": "7d7534a1",
   "metadata": {},
   "outputs": [
    {
     "name": "stdout",
     "output_type": "stream",
     "text": [
      "-----------------------------------\n",
      "[ 네이버 코스피 상위 10대 기업 목록 ]\n",
      "-----------------------------------\n",
      "[ 1] 삼성전자\n",
      "[ 2] LG에너지솔루션\n",
      "[ 3] SK하이닉스\n",
      "[ 4] 삼성바이오로직스\n",
      "[ 5] 삼성전자우\n",
      "[ 6] 현대차\n",
      "[ 7] NAVER\n",
      "[ 8] LG화학\n",
      "[ 9] 삼성SDI\n",
      "[10] 기아\n",
      "주가를 검색할 기업의 번호를 입력하세요(-1: 종료): 1\n",
      "https://finance.naver.com/item/main.naver?code=005930\n",
      "종목명: 삼성전자\n",
      "종목코드: 005930\n",
      "현재가: 61,100\n",
      "전일가: 61,300\n",
      "시가: 60,900\n",
      "고가: 61,900\n",
      "상한가: 79,600\n",
      "주가를 검색할 기업의 번호를 입력하세요(-1: 종료): 4\n",
      "https://finance.naver.com/item/main.naver?code=207940\n",
      "종목명: 삼성바이오로직스\n",
      "종목코드: 207940\n",
      "현재가: 829,000\n",
      "전일가: 829,000\n",
      "시가: 826,000\n",
      "고가: 833,000\n",
      "상한가: 1,077,000\n",
      "주가를 검색할 기업의 번호를 입력하세요(-1: 종료): 7\n",
      "https://finance.naver.com/item/main.naver?code=035420\n",
      "종목명: NAVER\n",
      "종목코드: 035420\n",
      "현재가: 248,000\n",
      "전일가: 250,000\n",
      "시가: 248,000\n",
      "고가: 249,000\n",
      "상한가: 325,000\n",
      "주가를 검색할 기업의 번호를 입력하세요(-1: 종료): -1\n",
      "프로그램 종료\n"
     ]
    }
   ],
   "source": [
    "# 메뉴 출력\n",
    "print('-'*35)\n",
    "print('[ 네이버 코스피 상위 10대 기업 목록 ]')\n",
    "print('-'*35)\n",
    "for i in range(10):\n",
    "    print(f'[{i+1:>2}] {top10_name[i]}')\n",
    "\n",
    "# 무한반복 (-1을 입력되기 전까지 메뉴 계속 돌아가도록)\n",
    "while True:\n",
    "    number = int(input('주가를 검색할 기업의 번호를 입력하세요(-1: 종료): '))\n",
    "    \n",
    "    # 1~10을 입력하면, 해당 번호의 기업 상세정보 출력\n",
    "    if (number>0 and number < 11):\n",
    "        url = 'https://finance.naver.com' + top10_rink[number-1]\n",
    "        html2 = requests.get(url)\n",
    "        page = BeautifulSoup(html2.text, 'html.parser')\n",
    "        print(url)\n",
    "        for j in range(1,8):  # 기업의 세부 주식 정보를 출력\n",
    "            a=page.select('dl.blind > dd')[j].text.split(' ')\n",
    "            print(f\"{a[0]}: {a[1]}\")\n",
    "            \n",
    "    # -1을 입력하면 안내문 출력 후 프로그램 종료         \n",
    "    elif number == -1:   \n",
    "        print('프로그램 종료')\n",
    "        break\n",
    "        \n",
    "    # 1~10, -1 외 숫자를 입력하면 안내문 출력    \n",
    "    else: \n",
    "        print('잘못 입력하였습니다')"
   ]
  },
  {
   "cell_type": "code",
   "execution_count": null,
   "id": "4ad339e5",
   "metadata": {},
   "outputs": [],
   "source": []
  }
 ],
 "metadata": {
  "kernelspec": {
   "display_name": "Python 3 (ipykernel)",
   "language": "python",
   "name": "python3"
  },
  "language_info": {
   "codemirror_mode": {
    "name": "ipython",
    "version": 3
   },
   "file_extension": ".py",
   "mimetype": "text/x-python",
   "name": "python",
   "nbconvert_exporter": "python",
   "pygments_lexer": "ipython3",
   "version": "3.9.12"
  }
 },
 "nbformat": 4,
 "nbformat_minor": 5
}
