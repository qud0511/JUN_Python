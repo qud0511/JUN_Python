{
 "cells": [
  {
   "cell_type": "code",
   "execution_count": 109,
   "id": "69285ef1",
   "metadata": {},
   "outputs": [],
   "source": [
    "import requests\n",
    "import re\n",
    "from bs4 import BeautifulSoup\n",
    "html = requests.get(url)\n",
    "soup = BeautifulSoup(html.text, 'html.parser')\n",
    "url='https://finance.naver.com/sise/sise_market_sum.naver'"
   ]
  },
  {
   "cell_type": "code",
   "execution_count": 56,
   "id": "c882b1f5",
   "metadata": {
    "scrolled": true
   },
   "outputs": [
    {
     "data": {
      "text/plain": [
       "['/item/main.naver?code=005930',\n",
       " '/item/main.naver?code=373220',\n",
       " '/item/main.naver?code=000660',\n",
       " '/item/main.naver?code=207940',\n",
       " '/item/main.naver?code=005935',\n",
       " '/item/main.naver?code=005380',\n",
       " '/item/main.naver?code=035420',\n",
       " '/item/main.naver?code=051910',\n",
       " '/item/main.naver?code=006400',\n",
       " '/item/main.naver?code=000270']"
      ]
     },
     "execution_count": 56,
     "metadata": {},
     "output_type": "execute_result"
    }
   ],
   "source": [
    "tb=soup.find_all('tbody')\n",
    "company_name=[]\n",
    "url_list=[]\n",
    "tb\n",
    "for i in tb:\n",
    "    all_url=i.find_all('a', {'class':'tltle'})\n",
    "    for i in all_url:\n",
    "        company_name.append(i.text)\n",
    "        url_list.append(i['href'])\n",
    "company_name=company_name[:10]\n",
    "url_list=url_list[:10]\n",
    "url_list"
   ]
  },
  {
   "cell_type": "code",
   "execution_count": 132,
   "id": "b6594048",
   "metadata": {},
   "outputs": [
    {
     "name": "stdout",
     "output_type": "stream",
     "text": [
      "--------------------------------------------------\n",
      "[네이버 코스피상위 10대 기업 목록]\n",
      "--------------------------------------------------\n",
      "[ 1] 종목명 삼성전자\n",
      "[ 2] 종목명 LG에너지솔루션\n",
      "[ 3] 종목명 SK하이닉스\n",
      "[ 4] 종목명 삼성바이오로직스\n",
      "[ 5] 종목명 삼성전자우\n",
      "[ 6] 종목명 현대차\n",
      "[ 7] 종목명 NAVER\n",
      "[ 8] 종목명 LG화학\n",
      "[ 9] 종목명 삼성SDI\n",
      "[ 10] 종목명 기아\n",
      "주가를 검색할 기업의 번호를 입력하세요(-1: 종료): 3\n",
      "https://finance.naver.com/item/main.naver?code=000660\n",
      "종목명:SK하이닉스\n",
      "종목코드:000660\n",
      "현재가:100,000\n",
      "전일가:100,000\n",
      "시가:99,100\n",
      "고가:101,500\n",
      "상한가:130,000\n"
     ]
    }
   ],
   "source": [
    "URL_list=[]\n",
    "all_text_list=[]\n",
    "name=[]\n",
    "code=[]\n",
    "D1=[]\n",
    "D2=[]\n",
    "D3=[]\n",
    "D4=[]\n",
    "D5=[]\n",
    "for i in url_list:    \n",
    "    url='https://finance.naver.com'+ i\n",
    "    URL_list.append(url)\n",
    "    html = requests.get(url)\n",
    "    soup = BeautifulSoup(html.text, 'html.parser')\n",
    "    dl=soup.find_all('dl', {'class':'blind'})\n",
    "    for i in dl:\n",
    "        dd=i.find_all('dd')\n",
    "        for i in dd:\n",
    "            all_text_list.append(i.text)\n",
    "for i in range(0, len(all_text_list)):\n",
    "    if i % 15==1:\n",
    "        name.append(all_text_list[i])\n",
    "    if i % 15 ==2:\n",
    "        code.append(all_text_list[i])\n",
    "    if i % 15==3:\n",
    "        D1.append(all_text_list[i])\n",
    "    if i % 15==4:\n",
    "        D2.append(all_text_list[i])\n",
    "    if i % 15==5:\n",
    "        D3.append(all_text_list[i])\n",
    "    if i % 15==6:\n",
    "        D4.append(all_text_list[i])\n",
    "    if i % 15==7:\n",
    "        D5.append(all_text_list[i])\n",
    "        \n",
    "\n",
    "def menu():\n",
    "    print('-'*50)\n",
    "    print('[네이버 코스피상위 10대 기업 목록]')\n",
    "    print('-'*50)\n",
    "    for i in range(0,10):\n",
    "        print(f'[ {i+1}] {name[i]}')\n",
    "\n",
    "    \n",
    "\n",
    "def solution():\n",
    "    menu()\n",
    "    company=int(input('주가를 검색할 기업의 번호를 입력하세요(-1: 종료): '))\n",
    "    \n",
    "    for i in range(0, 10):\n",
    "        \n",
    "        if company == i+1:\n",
    "            print(URL_list[i])\n",
    "            print(name[i].split()[0]+':'+name[i].split()[1])\n",
    "            print(code[i].split()[0]+':'+code[i].split()[1])\n",
    "            print(D1[i].split()[0]+':'+D1[i].split()[1])\n",
    "            print(D2[i].split()[0]+':'+D2[i].split()[1])\n",
    "            print(D3[i].split()[0]+':'+D3[i].split()[1])\n",
    "            print(D4[i].split()[0]+':'+D4[i].split()[1])\n",
    "            print(D5[i].split()[0]+':'+D5[i].split()[1])\n",
    "        elif company == -1:\n",
    "            break\n",
    "solution()"
   ]
  },
  {
   "cell_type": "code",
   "execution_count": null,
   "id": "76241e7a",
   "metadata": {},
   "outputs": [],
   "source": []
  }
 ],
 "metadata": {
  "kernelspec": {
   "display_name": "Python 3 (ipykernel)",
   "language": "python",
   "name": "python3"
  },
  "language_info": {
   "codemirror_mode": {
    "name": "ipython",
    "version": 3
   },
   "file_extension": ".py",
   "mimetype": "text/x-python",
   "name": "python",
   "nbconvert_exporter": "python",
   "pygments_lexer": "ipython3",
   "version": "3.9.12"
  }
 },
 "nbformat": 4,
 "nbformat_minor": 5
}
