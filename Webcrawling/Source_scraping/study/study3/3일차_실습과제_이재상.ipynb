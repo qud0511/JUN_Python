{
 "cells": [
  {
   "cell_type": "code",
   "execution_count": 1,
   "metadata": {},
   "outputs": [
    {
     "name": "stdout",
     "output_type": "stream",
     "text": [
      "----------------------------------------\n",
      "[ 네이버 코스피 상위 10대 기업 목록 ]\n",
      "----------------------------------------\n",
      "[ 1] 삼성전자\n",
      "[ 2] LG에너지솔루션\n",
      "[ 3] SK하이닉스\n",
      "[ 4] 삼성바이오로직스\n",
      "[ 5] 삼성전자우\n",
      "[ 6] 현대차\n",
      "[ 7] NAVER\n",
      "[ 8] LG화학\n",
      "[ 9] 삼성SDI\n",
      "[10] 기아\n",
      "https://finance.naver.com/item/main.naver?code=000270\n",
      "종목명 : 기아\n",
      "종목코드 : 000270\n",
      "현재가 : 82,300\n",
      "전일가 : 80,900\n",
      "시가 : 81,300\n",
      "고가 : 83,300\n",
      "저가 : 81,200\n",
      "프로그램 종료\n"
     ]
    }
   ],
   "source": [
    "# 모듈 로딩\n",
    "from bs4 import BeautifulSoup\n",
    "import requests\n",
    "\n",
    "url = 'https://finance.naver.com/sise/sise_market_sum.naver'\n",
    "link_list = []  # 기업별 상대 링크 저장 리스트\n",
    "name_list = []  # 기업명 저장 리스트\n",
    "\n",
    "# 웹사이트 함수\n",
    "def getPage(link):\n",
    "    try:\n",
    "        req = requests.get(link)\n",
    "    except requests.exceptions.RequestException:\n",
    "        return None\n",
    "    return BeautifulSoup(req.text, 'html.parser')\n",
    "\n",
    "# 상대링크 및 기업명 크롤링\n",
    "for n in range(0,20,2):\n",
    "    bs = getPage(url)\n",
    "    data_links = bs.select('tbody>tr>td>a')[n]\n",
    "    links = data_links['href']\n",
    "    name = data_links.text\n",
    "    link_list.append(links)\n",
    "    name_list.append(name)\n",
    "\n",
    "# 기업 목록 출력\n",
    "print('-'*40)\n",
    "print('[ 네이버 코스피 상위 10대 기업 목록 ]')\n",
    "print('-'*40)\n",
    "\n",
    "for a in range(0,10):\n",
    "    print('[{0:2d}] {1}'.format(a+1, name_list[a]))\n",
    "\n",
    "# 검색 화면 출력\n",
    "while True:\n",
    "    num = int(input('주가를 검색할 기업의 번호를 입력하세요(-1 : 종료) : '))\n",
    "    if num == -1:\n",
    "        print('프로그램 종료')\n",
    "        break\n",
    "    else:\n",
    "        bs = getPage('https://finance.naver.com'+link_list[num-1])\n",
    "        list = []  # 기업 주가 정보 저장 리스트\n",
    "        for i in range(1,9):\n",
    "            info = bs.select('dl>dd')[i].text.split()[1]\n",
    "            list.append(info)\n",
    "        print('https://finance.naver.com'+link_list[num-1])\n",
    "        print('종목명 : {0}\\n종목코드 : {1}\\n현재가 : {2}\\n전일가 : {3}\\n시가 : {4}\\n고가 : {5}\\n저가 : {6}'.format(list[0],list[1],list[2],list[3],list[4],list[5],list[7]))"
   ]
  },
  {
   "cell_type": "code",
   "execution_count": null,
   "metadata": {},
   "outputs": [],
   "source": []
  }
 ],
 "metadata": {
  "kernelspec": {
   "display_name": "Python 3.9.13 64-bit",
   "language": "python",
   "name": "python3"
  },
  "language_info": {
   "codemirror_mode": {
    "name": "ipython",
    "version": 3
   },
   "file_extension": ".py",
   "mimetype": "text/x-python",
   "name": "python",
   "nbconvert_exporter": "python",
   "pygments_lexer": "ipython3",
   "version": "3.9.13"
  },
  "orig_nbformat": 4,
  "vscode": {
   "interpreter": {
    "hash": "4cff3abf1678755e0069fd79299a535fe1940bcd71a6b01d9f4386710b2b163f"
   }
  }
 },
 "nbformat": 4,
 "nbformat_minor": 2
}
