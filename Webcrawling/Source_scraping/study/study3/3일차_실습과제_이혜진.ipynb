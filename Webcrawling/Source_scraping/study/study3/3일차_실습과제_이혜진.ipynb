{
 "cells": [
  {
   "cell_type": "markdown",
   "id": "2517c8b4",
   "metadata": {},
   "source": [
    "## 네이버 주식 : 시가 총액현황 # 1\n",
    "- 시가 총액 메뉴에서 상위 10개 기업 정보 크롤링"
   ]
  },
  {
   "cell_type": "code",
   "execution_count": 336,
   "id": "192d618f",
   "metadata": {},
   "outputs": [
    {
     "name": "stdout",
     "output_type": "stream",
     "text": [
      "1\t삼성전자\t\t61,100\n",
      "2\tLG에너지솔루션\t\t391,000\n",
      "3\tSK하이닉스\t\t100,000\n",
      "4\t삼성바이오로직스\t\t829,000\n",
      "5\t삼성전자우\t\t55,800\n",
      "6\t현대차\t\t196,000\n",
      "7\tNAVER\t\t248,000\n",
      "8\tLG화학\t\t556,000\n",
      "9\t삼성SDI\t\t558,000\n",
      "10\t기아\t\t82,300\n",
      "11\t카카오\t\t73,000\n",
      "12\t셀트리온\t\t185,000\n",
      "13\t삼성물산\t\t117,500\n",
      "14\t현대모비스\t\t226,000\n",
      "15\tPOSCO홀딩스\t\t234,500\n",
      "16\tKB금융\t\t47,850\n",
      "17\t신한지주\t\t36,000\n",
      "18\tSK이노베이션\t\t179,500\n",
      "19\tSK\t\t217,500\n",
      "20\tLG전자\t\t93,900\n",
      "21\t카카오뱅크\t\t30,450\n",
      "22\t한국전력\t\t22,000\n",
      "23\t크래프톤\t\t256,000\n",
      "24\tLG\t\t78,700\n",
      "25\t삼성생명\t\t59,800\n",
      "26\tHMM\t\t24,250\n",
      "27\tLG생활건강\t\t724,000\n",
      "28\tSK텔레콤\t\t51,600\n",
      "29\tKT&G\t\t82,100\n",
      "30\t두산에너빌리티\t\t17,500\n",
      "31\t현대중공업\t\t124,500\n",
      "32\t하나금융지주\t\t36,250\n",
      "33\t삼성전기\t\t143,000\n",
      "34\t삼성에스디에스\t\t135,000\n",
      "35\tS-Oil\t\t90,600\n",
      "36\tSK바이오사이언스\t\t128,000\n",
      "37\tKT\t\t37,350\n",
      "38\t대한항공\t\t25,100\n",
      "39\t삼성화재\t\t193,500\n",
      "40\t포스코케미칼\t\t117,500\n",
      "41\t고려아연\t\t468,500\n",
      "42\t카카오페이\t\t65,700\n",
      "43\t우리금융지주\t\t11,950\n",
      "44\tLG이노텍\t\t344,000\n",
      "45\t엔씨소프트\t\t370,000\n",
      "46\t아모레퍼시픽\t\t138,000\n",
      "47\t하이브\t\t176,500\n",
      "48\t기업은행\t\t9,390\n",
      "49\t현대글로비스\t\t185,000\n",
      "50\t한화솔루션\t\t35,400\n"
     ]
    }
   ],
   "source": [
    "import requests\n",
    "from bs4 import BeautifulSoup\n",
    "html = requests.get('https://finance.naver.com/sise/sise_market_sum.naver')\n",
    "soup = BeautifulSoup(html.text,'html.parser')\n",
    "\n",
    "tbody = soup.find('tbody')\n",
    "items= tbody.find_all('tr', onmouseover=\"mouseOver(this)\")\n",
    "\n",
    "for item in items :\n",
    "    info = item.get_text()\n",
    "    infos = info.split(\"\\n\")\n",
    "    print(infos[1] +\"\\t\"+infos[2]+\"\\t\\t\"+infos[3])"
   ]
  },
  {
   "cell_type": "code",
   "execution_count": 337,
   "id": "9b23bdd4",
   "metadata": {},
   "outputs": [
    {
     "name": "stdout",
     "output_type": "stream",
     "text": [
      "['N', '종목명', '현재가', '전일비', '등락률', '액면가', '시가총액', '상장주식수', '외국인비율', '거래량', 'PER', 'ROE', '토론실']\n"
     ]
    }
   ],
   "source": [
    "# 데이터 헤드 부분 \n",
    "stock_head = soup.find(\"thead\").find_all(\"th\")\n",
    "data_head = [head.get_text() for head in stock_head]\n",
    "print(data_head)"
   ]
  },
  {
   "cell_type": "code",
   "execution_count": 338,
   "id": "3eb1286d",
   "metadata": {},
   "outputs": [
    {
     "name": "stdout",
     "output_type": "stream",
     "text": [
      "['1', '삼성전자', '61,100', '200', '-0.33%', '100', '3,647,537', '5,969,783', '49.79', '8,939,057', '9.59', '13.92']\n",
      "['2', 'LG에너지솔루션', '391,000', '9,000', '+2.36%', '500', '914,940', '234,000', '3.23', '652,677', '124.60', '10.68']\n",
      "['3', 'SK하이닉스', '100,000', '0', '0.00%', '5,000', '728,002', '728,002', '49.89', '2,158,493', '6.87', '16.84']\n",
      "['4', '삼성바이오로직스', '829,000', '0', '0.00%', '2,500', '590,032', '71,174', '10.71', '38,780', '115.75', '8.21']\n",
      "['5', '삼성전자우', '55,800', '400', '-0.71%', '100', '459,171', '822,887', '72.13', '780,724', '8.76', 'N/A']\n",
      "['6', '현대차', '196,000', '5,000', '+2.62%', '5,000', '418,790', '213,668', '27.05', '1,338,528', '10.44', '6.84']\n",
      "['7', 'NAVER', '248,000', '2,000', '-0.80%', '100', '406,842', '164,049', '53.32', '379,661', '30.15', '106.72']\n",
      "['8', 'LG화학', '556,000', '5,000', '-0.89%', '5,000', '392,493', '70,592', '47.80', '168,653', '14.26', '18.47']\n",
      "['9', '삼성SDI', '558,000', '10,000', '-1.76%', '5,000', '383,706', '68,765', '42.85', '172,487', '28.21', '8.45']\n",
      "['10', '기아', '82,300', '1,400', '+1.73%', '5,000', '333,614', '405,363', '36.14', '1,604,465', '7.01', '14.69']\n"
     ]
    }
   ],
   "source": [
    "# 주식 정보 크롤링 top 10\n",
    "stock_list = soup.find(\"table\", attrs={\"class\": \"type_2\"}).find(\"tbody\").find_all(\"tr\")\n",
    "#print(stock_list)\n",
    "i = 0\n",
    "for stock in stock_list:\n",
    "    if len(stock) > 1 :\n",
    "        print(stock.get_text().split())\n",
    "        i +=1\n",
    "        if i == 10: break"
   ]
  },
  {
   "cell_type": "markdown",
   "id": "4f6cfc1b",
   "metadata": {},
   "source": [
    "## 네이버 주식 : 시가 총액현황 # 2\n",
    "- 각 회사별 URL 및 이름을 리스트에 저장"
   ]
  },
  {
   "cell_type": "code",
   "execution_count": 339,
   "id": "b4de4368",
   "metadata": {},
   "outputs": [
    {
     "name": "stdout",
     "output_type": "stream",
     "text": [
      "['1', '삼성전자', '61,100', '200', '-0.33%', '100', '3,647,537', '5,969,783', '49.79', '8,939,057', '9.59', '13.92']\n",
      "['2', 'LG에너지솔루션', '391,000', '9,000', '+2.36%', '500', '914,940', '234,000', '3.23', '652,677', '124.60', '10.68']\n",
      "['3', 'SK하이닉스', '100,000', '0', '0.00%', '5,000', '728,002', '728,002', '49.89', '2,158,493', '6.87', '16.84']\n",
      "['4', '삼성바이오로직스', '829,000', '0', '0.00%', '2,500', '590,032', '71,174', '10.71', '38,780', '115.75', '8.21']\n",
      "['5', '삼성전자우', '55,800', '400', '-0.71%', '100', '459,171', '822,887', '72.13', '780,724', '8.76', 'N/A']\n",
      "['6', '현대차', '196,000', '5,000', '+2.62%', '5,000', '418,790', '213,668', '27.05', '1,338,528', '10.44', '6.84']\n",
      "['7', 'NAVER', '248,000', '2,000', '-0.80%', '100', '406,842', '164,049', '53.32', '379,661', '30.15', '106.72']\n",
      "['8', 'LG화학', '556,000', '5,000', '-0.89%', '5,000', '392,493', '70,592', '47.80', '168,653', '14.26', '18.47']\n",
      "['9', '삼성SDI', '558,000', '10,000', '-1.76%', '5,000', '383,706', '68,765', '42.85', '172,487', '28.21', '8.45']\n",
      "['10', '기아', '82,300', '1,400', '+1.73%', '5,000', '333,614', '405,363', '36.14', '1,604,465', '7.01', '14.69']\n"
     ]
    }
   ],
   "source": [
    "# 이름 리스트 만들기\n",
    "name_list = []\n",
    "i = 0\n",
    "for stock in stock_list:\n",
    "    if len(stock) > 1 :\n",
    "        name_list.append(stock.get_text().split()[1])\n",
    "        print(stock.get_text().split())\n",
    "        i +=1\n",
    "        if i == 10: break"
   ]
  },
  {
   "cell_type": "code",
   "execution_count": 340,
   "id": "239413a7",
   "metadata": {},
   "outputs": [
    {
     "name": "stdout",
     "output_type": "stream",
     "text": [
      "['삼성전자', 'LG에너지솔루션', 'SK하이닉스', '삼성바이오로직스', '삼성전자우', '현대차', 'NAVER', 'LG화학', '삼성SDI', '기아']\n"
     ]
    }
   ],
   "source": [
    "print(name_list)"
   ]
  },
  {
   "cell_type": "code",
   "execution_count": 341,
   "id": "9e0cbc2d",
   "metadata": {},
   "outputs": [],
   "source": [
    "# 링크 리스트 만들기\n",
    "alink = tbody.find_all('tr', onmouseover=\"mouseOver(this)\")\n",
    "#print(alink[0]['href'])\n",
    "#print(alink)\n",
    "#alink[0]\n",
    "alink[0].find('a')['href']\n",
    "link_list = []\n",
    "i=0\n",
    "for link in alink:\n",
    "    link_list.append(alink[i].find('a')['href'])\n",
    "    i+=1\n",
    "    if i == 10: break"
   ]
  },
  {
   "cell_type": "code",
   "execution_count": 342,
   "id": "ee36957c",
   "metadata": {},
   "outputs": [
    {
     "name": "stdout",
     "output_type": "stream",
     "text": [
      "['/item/main.naver?code=005930', '/item/main.naver?code=373220', '/item/main.naver?code=000660', '/item/main.naver?code=207940', '/item/main.naver?code=005935', '/item/main.naver?code=005380', '/item/main.naver?code=035420', '/item/main.naver?code=051910', '/item/main.naver?code=006400', '/item/main.naver?code=000270']\n"
     ]
    }
   ],
   "source": [
    "print(link_list)"
   ]
  },
  {
   "cell_type": "code",
   "execution_count": 343,
   "id": "0a296017",
   "metadata": {},
   "outputs": [],
   "source": [
    "# link = 'https://finance.naver.com' + link_list[0]"
   ]
  },
  {
   "cell_type": "code",
   "execution_count": 344,
   "id": "201ed1e1",
   "metadata": {},
   "outputs": [],
   "source": [
    "# html2 = requests.get(link)\n",
    "# soup2 = BeautifulSoup(html2.text,'html.parser')\n",
    "# soup3 = soup2.find('dl',{'class':'blind'}).text.split('\\n')[3:11]\n",
    "# del soup3[-2]"
   ]
  },
  {
   "cell_type": "code",
   "execution_count": 345,
   "id": "344536ad",
   "metadata": {},
   "outputs": [],
   "source": [
    "\n",
    "# for i in range(len(soup3)):\n",
    "#     soup3[i].split(' ') \n",
    "#     print(soup3[i].split(' ')[0] + ': ' +  soup3[i].split(' ')[1])"
   ]
  },
  {
   "cell_type": "code",
   "execution_count": 346,
   "id": "189c0e51",
   "metadata": {},
   "outputs": [],
   "source": [
    "# num = '1'\n",
    "\n",
    "# link = 'https://finance.naver.com' + link_list[int(num)-1]\n",
    "\n",
    "# html2 = requests.get(link)\n",
    "# soup2 = BeautifulSoup(html2.text,'html.parser')\n",
    "# soup4 = soup2.find('dl',{'class':'blind'}).text.split('\\n')[3:11]\n",
    "# del soup4[-2]\n",
    "\n",
    "# for i in range(len(soup4)):\n",
    "#     soup4[i].split(' ') \n",
    "#     print(soup4[i].split(' ')[0] + ': ' +  soup4[i].split(' ')[1])"
   ]
  },
  {
   "cell_type": "code",
   "execution_count": 347,
   "id": "fc029d8a",
   "metadata": {},
   "outputs": [
    {
     "name": "stdout",
     "output_type": "stream",
     "text": [
      "------------------------------\n",
      "[네이버 코스피 상위 10대 기업 목록]\n",
      "------------------------------\n",
      "[1] 삼성전자\n",
      "[2] LG에너지솔루션\n",
      "[3] SK하이닉스\n",
      "[4] 삼성바이오로직스\n",
      "[5] 삼성전자우\n",
      "[6] 현대차\n",
      "[7] NAVER\n",
      "[8] LG화학\n",
      "[9] 삼성SDI\n",
      "[10] 기아\n",
      "주가를 검색할 기업의 번호를 입력하세요(-1: 종료): 5\n",
      "https://finance.naver.com/item/main.naver?code=005935\n",
      "종목명: 삼성전자우\n",
      "종목코드: 005935\n",
      "현재가: 55,800\n",
      "전일가: 56,200\n",
      "시가: 56,100\n",
      "고가: 56,400\n",
      "저가: 55,700\n",
      "------------------------------\n",
      "[네이버 코스피 상위 10대 기업 목록]\n",
      "------------------------------\n",
      "[1] 삼성전자\n",
      "[2] LG에너지솔루션\n",
      "[3] SK하이닉스\n",
      "[4] 삼성바이오로직스\n",
      "[5] 삼성전자우\n",
      "[6] 현대차\n",
      "[7] NAVER\n",
      "[8] LG화학\n",
      "[9] 삼성SDI\n",
      "[10] 기아\n",
      "주가를 검색할 기업의 번호를 입력하세요(-1: 종료): 4\n",
      "https://finance.naver.com/item/main.naver?code=207940\n",
      "종목명: 삼성바이오로직스\n",
      "종목코드: 207940\n",
      "현재가: 829,000\n",
      "전일가: 829,000\n",
      "시가: 826,000\n",
      "고가: 833,000\n",
      "저가: 824,000\n",
      "------------------------------\n",
      "[네이버 코스피 상위 10대 기업 목록]\n",
      "------------------------------\n",
      "[1] 삼성전자\n",
      "[2] LG에너지솔루션\n",
      "[3] SK하이닉스\n",
      "[4] 삼성바이오로직스\n",
      "[5] 삼성전자우\n",
      "[6] 현대차\n",
      "[7] NAVER\n",
      "[8] LG화학\n",
      "[9] 삼성SDI\n",
      "[10] 기아\n",
      "주가를 검색할 기업의 번호를 입력하세요(-1: 종료): -1\n",
      "https://finance.naver.com/item/main.naver?code=006400\n",
      "프로그램 종료\n"
     ]
    }
   ],
   "source": [
    "while True:\n",
    "    print('-'*30)\n",
    "    print('[네이버 코스피 상위 10대 기업 목록]')\n",
    "    print('-'*30)\n",
    "\n",
    "    for i in range(len(name_list)):\n",
    "        print(f'[{i+1}] {name_list[i]}')\n",
    "    \n",
    "    num = input('주가를 검색할 기업의 번호를 입력하세요(-1: 종료): ')\n",
    "    print('https://finance.naver.com' + link_list[int(num)-1])\n",
    "    \n",
    "    if int(num) == -1:\n",
    "        print('프로그램 종료')\n",
    "        break\n",
    "    else:    \n",
    "        link = 'https://finance.naver.com' + link_list[int(num)-1]\n",
    "        html2 = requests.get(link)\n",
    "        soup2 = BeautifulSoup(html2.text,'html.parser')\n",
    "        soup4 = soup2.find('dl',{'class':'blind'}).text.split('\\n')[3:11]\n",
    "        del soup4[-2]\n",
    "        \n",
    "        for i in range(len(soup4)):\n",
    "            soup4[i].split(' ') \n",
    "            print(soup4[i].split(' ')[0] + ': ' +  soup4[i].split(' ')[1])"
   ]
  },
  {
   "cell_type": "code",
   "execution_count": null,
   "id": "004cca60",
   "metadata": {},
   "outputs": [],
   "source": []
  }
 ],
 "metadata": {
  "kernelspec": {
   "display_name": "Python 3 (ipykernel)",
   "language": "python",
   "name": "python3"
  },
  "language_info": {
   "codemirror_mode": {
    "name": "ipython",
    "version": 3
   },
   "file_extension": ".py",
   "mimetype": "text/x-python",
   "name": "python",
   "nbconvert_exporter": "python",
   "pygments_lexer": "ipython3",
   "version": "3.9.12"
  }
 },
 "nbformat": 4,
 "nbformat_minor": 5
}
