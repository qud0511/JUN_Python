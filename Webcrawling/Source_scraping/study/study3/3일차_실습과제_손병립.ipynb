{
 "cells": [
  {
   "cell_type": "markdown",
   "metadata": {},
   "source": [
    "# 과제3: 네이버 증시 정보 크롤링"
   ]
  },
  {
   "cell_type": "code",
   "execution_count": 3,
   "metadata": {},
   "outputs": [],
   "source": [
    "import requests\n",
    "from bs4 import BeautifulSoup"
   ]
  },
  {
   "cell_type": "code",
   "execution_count": 7,
   "metadata": {},
   "outputs": [],
   "source": [
    "# 상위 10개기업명, url 리스트 작성후 출력\n",
    "def stock_info(name_list,url_list):\n",
    "   \n",
    "    url='https://finance.naver.com/sise/sise_market_sum.naver'\n",
    "    html = requests.get(url)\n",
    "    soup = BeautifulSoup(html.text, 'html.parser')\n",
    "\n",
    "    stock_all=soup.find_all('tr',{'onmouseover':'mouseOver(this)'})\n",
    "\n",
    "    for i in range(10):\n",
    "        url_i='https://finance.naver.com'+stock_all[i].find('a').attrs['href']\n",
    "        url_list.append(url_i)\n",
    "        name_list.append(stock_all[i].find('a').text)\n",
    "\n",
    "    for i in range(10):\n",
    "        print('[{:2d}] {}'.format(i+1, name_list[i]))\n",
    "\n",
    "# 선택된 기업 주가정보 출력\n",
    "def print_info(num,url_list):\n",
    "\n",
    "    html2 = requests.get(url_list[num-1])\n",
    "    soup2 = BeautifulSoup(html2.text, 'html.parser')\n",
    "    \n",
    "    list_info=soup2.find('dl',{'class':'blind'}).text.split('\\n')[3:11]\n",
    "    del list_info[6]\n",
    "\n",
    "    for i in list_info:\n",
    "        i=i.split()\n",
    "        print(f'{i[0]}: {i[1]}' )\n",
    "\n",
    "# 메인함수\n",
    "def main():\n",
    "    while True:\n",
    "\n",
    "        url_list=[]\n",
    "        name_list=[]\n",
    "\n",
    "        print('-'*30)\n",
    "        print('[네이버 코스피 상위 10대 기업 목록]')\n",
    "        print('-'*30)\n",
    "        \n",
    "        \n",
    "        stock_info(name_list,url_list)\n",
    "        \n",
    "        num=int(input('주가를 검색할 기업의 번호를 입력하세요(-1: 종료):'))\n",
    "\n",
    "        if int(num)==-1:\n",
    "            print()\n",
    "            print('프로그램 종료')\n",
    "            break\n",
    "        else:\n",
    "            print_info(num,url_list)\n",
    "            print()\n"
   ]
  },
  {
   "cell_type": "code",
   "execution_count": 8,
   "metadata": {},
   "outputs": [
    {
     "name": "stdout",
     "output_type": "stream",
     "text": [
      "------------------------------\n",
      "[네이버 코스피 상위 10대 기업 목록]\n",
      "------------------------------\n",
      "[ 1] 삼성전자\n",
      "[ 2] LG에너지솔루션\n",
      "[ 3] SK하이닉스\n",
      "[ 4] 삼성바이오로직스\n",
      "[ 5] 삼성전자우\n",
      "[ 6] 현대차\n",
      "[ 7] NAVER\n",
      "[ 8] LG화학\n",
      "[ 9] 삼성SDI\n",
      "[10] 기아\n",
      "종목명: 삼성전자우\n",
      "종목코드: 005935\n",
      "현재가: 55,800\n",
      "전일가: 56,200\n",
      "시가: 56,100\n",
      "고가: 56,400\n",
      "저가: 55,700\n",
      "\n",
      "------------------------------\n",
      "[네이버 코스피 상위 10대 기업 목록]\n",
      "------------------------------\n",
      "[ 1] 삼성전자\n",
      "[ 2] LG에너지솔루션\n",
      "[ 3] SK하이닉스\n",
      "[ 4] 삼성바이오로직스\n",
      "[ 5] 삼성전자우\n",
      "[ 6] 현대차\n",
      "[ 7] NAVER\n",
      "[ 8] LG화학\n",
      "[ 9] 삼성SDI\n",
      "[10] 기아\n",
      "종목명: SK하이닉스\n",
      "종목코드: 000660\n",
      "현재가: 100,000\n",
      "전일가: 100,000\n",
      "시가: 99,100\n",
      "고가: 101,500\n",
      "저가: 98,900\n",
      "\n",
      "------------------------------\n",
      "[네이버 코스피 상위 10대 기업 목록]\n",
      "------------------------------\n",
      "[ 1] 삼성전자\n",
      "[ 2] LG에너지솔루션\n",
      "[ 3] SK하이닉스\n",
      "[ 4] 삼성바이오로직스\n",
      "[ 5] 삼성전자우\n",
      "[ 6] 현대차\n",
      "[ 7] NAVER\n",
      "[ 8] LG화학\n",
      "[ 9] 삼성SDI\n",
      "[10] 기아\n",
      "\n",
      "프로그램 종료\n"
     ]
    }
   ],
   "source": [
    "main()"
   ]
  },
  {
   "cell_type": "code",
   "execution_count": 11,
   "metadata": {},
   "outputs": [],
   "source": []
  },
  {
   "cell_type": "code",
   "execution_count": null,
   "metadata": {},
   "outputs": [],
   "source": []
  },
  {
   "cell_type": "code",
   "execution_count": null,
   "metadata": {},
   "outputs": [],
   "source": []
  }
 ],
 "metadata": {
  "kernelspec": {
   "display_name": "Python 3.9.12 ('base')",
   "language": "python",
   "name": "python3"
  },
  "language_info": {
   "codemirror_mode": {
    "name": "ipython",
    "version": 3
   },
   "file_extension": ".py",
   "mimetype": "text/x-python",
   "name": "python",
   "nbconvert_exporter": "python",
   "pygments_lexer": "ipython3",
   "version": "3.9.12"
  },
  "orig_nbformat": 4,
  "vscode": {
   "interpreter": {
    "hash": "ad2bdc8ecc057115af97d19610ffacc2b4e99fae6737bb82f5d7fb13d2f2c186"
   }
  }
 },
 "nbformat": 4,
 "nbformat_minor": 2
}
