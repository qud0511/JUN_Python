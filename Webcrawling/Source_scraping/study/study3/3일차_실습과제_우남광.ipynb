{
 "cells": [
  {
   "cell_type": "markdown",
   "metadata": {},
   "source": [
    "## 네이버 주식"
   ]
  },
  {
   "cell_type": "code",
   "execution_count": 2,
   "metadata": {},
   "outputs": [],
   "source": [
    "PATH = '../home/chromedriver'\n",
    "import time\n",
    "import requests\n",
    "from bs4 import BeautifulSoup"
   ]
  },
  {
   "cell_type": "code",
   "execution_count": 3,
   "metadata": {},
   "outputs": [],
   "source": [
    "url = 'https://finance.naver.com/sise/sise_market_sum.naver'\n",
    "\n",
    "html = requests.get(url)\n",
    "soup = BeautifulSoup(html.text, 'html.parser')\n",
    "\n",
    "import pandas as pd"
   ]
  },
  {
   "cell_type": "code",
   "execution_count": 4,
   "metadata": {},
   "outputs": [],
   "source": [
    "link_list = []\n",
    "\n",
    "# 링크 받아오기\n",
    "for num in range(10):\n",
    "    row = soup.select_one('div.box_type_l > table > tbody').find_all('tr', onmouseout =\"mouseOut(this)\")[num].find_all('td')\n",
    "    link = pd.Series(row)[1].find('a')['href']    # 상대경로\n",
    "    link_list.append('https://finance.naver.com' + link)\n",
    "    # row_list.append(row)"
   ]
  },
  {
   "cell_type": "code",
   "execution_count": 5,
   "metadata": {},
   "outputs": [
    {
     "name": "stdout",
     "output_type": "stream",
     "text": [
      "        종목명    종목코드      현재가      전일가       시가       고가       저가  \\\n",
      "0      삼성전자  005930   61,100   61,300   60,900   61,900   60,800   \n",
      "1  LG에너지솔루션  373220  391,000  382,000  376,000  393,500  371,000   \n",
      "2    SK하이닉스  000660  100,000  100,000   99,100  101,500   98,900   \n",
      "3  삼성바이오로직스  207940  829,000  829,000  826,000  833,000  824,000   \n",
      "4     삼성전자우  005935   55,800   56,200   56,100   56,400   55,700   \n",
      "5       현대차  005380  196,000  191,000  192,500  198,500  192,500   \n",
      "6     NAVER  035420  248,000  250,000  248,000  249,000  244,000   \n",
      "7      LG화학  051910  556,000  561,000  562,000  572,000  552,000   \n",
      "8     삼성SDI  006400  558,000  568,000  566,000  572,000  557,000   \n",
      "9        기아  000270   82,300   80,900   81,300   83,300   81,200   \n",
      "\n",
      "                                                  링크  \n",
      "0  https://finance.naver.com/item/main.naver?code...  \n",
      "1  https://finance.naver.com/item/main.naver?code...  \n",
      "2  https://finance.naver.com/item/main.naver?code...  \n",
      "3  https://finance.naver.com/item/main.naver?code...  \n",
      "4  https://finance.naver.com/item/main.naver?code...  \n",
      "5  https://finance.naver.com/item/main.naver?code...  \n",
      "6  https://finance.naver.com/item/main.naver?code...  \n",
      "7  https://finance.naver.com/item/main.naver?code...  \n",
      "8  https://finance.naver.com/item/main.naver?code...  \n",
      "9  https://finance.naver.com/item/main.naver?code...  \n"
     ]
    }
   ],
   "source": [
    "# 데이터 프레임 만들기\n",
    "row_list = []\n",
    "for link in link_list:\n",
    "    url = link\n",
    "    html = requests.get(url)\n",
    "    soup = BeautifulSoup(html.text, 'html.parser')\n",
    "\n",
    "    jongmok = soup.select_one('h2 a').text   # 종목명\n",
    "    code = url[-6:]                          # 종목코드\n",
    "\n",
    "    yesterday = soup.select('div.rate_info table td')[0].select_one('span.blind').text # 전일가\n",
    "    high = soup.select('div.rate_info table td')[1].select_one('span.blind').text # 고가\n",
    "    si = soup.select('div.rate_info table td')[3].select_one('span.blind').text # 시가\n",
    "    low = soup.select('div.rate_info table td')[4].select_one('span.blind').text # 저가\n",
    "    today = soup.select_one('p.no_today span.blind').text  # 현재가\n",
    "    row_list.append([jongmok, code, today, yesterday, si, high, low, url])\n",
    "\n",
    "column = ['종목명', '종목코드', '현재가', '전일가', '시가', '고가', '저가', '링크']\n",
    "\n",
    "df = pd.DataFrame(row_list, columns= column)\n",
    "print(df)"
   ]
  },
  {
   "cell_type": "code",
   "execution_count": 6,
   "metadata": {},
   "outputs": [
    {
     "name": "stdout",
     "output_type": "stream",
     "text": [
      "----------------------------------------\n",
      "[네이버 코스피 상위 10대 기업 목록]\n",
      "[1] 삼성전자\n",
      "[2] LG에너지솔루션\n",
      "[3] SK하이닉스\n",
      "[4] 삼성바이오로직스\n",
      "[5] 삼성전자우\n",
      "[6] 현대차\n",
      "[7] NAVER\n",
      "[8] LG화학\n",
      "[9] 삼성SDI\n",
      "[10] 기아\n",
      "----------------------------------------\n",
      "프로그램 종료\n"
     ]
    }
   ],
   "source": [
    "def main():\n",
    "    while True:\n",
    "        print('-'*40)\n",
    "        print('[네이버 코스피 상위 10대 기업 목록]')\n",
    "        for idx, name in enumerate(df['종목명']):\n",
    "            print(f'{[idx+1]}', name)\n",
    "        print('-'*40)\n",
    "        \n",
    "        try: \n",
    "            select = int(input('주가를 검색할 기업의 번호를 입력하세요(-1: 종료): '))\n",
    "            if select == -1 :\n",
    "                print('프로그램 종료')\n",
    "                break\n",
    "\n",
    "            elif select in range(1,11):\n",
    "                print(df['링크'][select])\n",
    "                print('종목명: ',df['종목명'][select])\n",
    "                print('종목코드: ',df['종목코드'][select])\n",
    "                print('현재가: ',df['현재가'][select])\n",
    "                print('전일가: ',df['전일가'][select])\n",
    "                print('시가: ',df['시가'][select])\n",
    "                print('고가: ',df['고가'][select])\n",
    "                print('저가: ',df['저가'][select])\n",
    "\n",
    "        except Exception as e: continue\n",
    "\n",
    "main()"
   ]
  }
 ],
 "metadata": {
  "kernelspec": {
   "display_name": "Python 3.9.10 64-bit",
   "language": "python",
   "name": "python3"
  },
  "language_info": {
   "codemirror_mode": {
    "name": "ipython",
    "version": 3
   },
   "file_extension": ".py",
   "mimetype": "text/x-python",
   "name": "python",
   "nbconvert_exporter": "python",
   "pygments_lexer": "ipython3",
   "version": "3.9.10"
  },
  "orig_nbformat": 4,
  "vscode": {
   "interpreter": {
    "hash": "cf92aa13fedf815d5c8dd192b8d835913fde3e8bc926b2a0ad6cc74ef2ba3ca2"
   }
  }
 },
 "nbformat": 4,
 "nbformat_minor": 2
}
