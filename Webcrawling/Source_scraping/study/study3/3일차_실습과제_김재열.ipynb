{
 "cells": [
  {
   "cell_type": "code",
   "execution_count": null,
   "id": "3b1edc59",
   "metadata": {},
   "outputs": [],
   "source": [
    "import requests\n",
    "from bs4 import BeautifulSoup\n",
    "#from urllib.request import urlopen\n",
    "html= requests.get('https://finance.naver.com/sise/sise_market_sum.naver')\n",
    "soup=BeautifulSoup(html.text, 'html.parser')\n",
    "print(soup.prettify())"
   ]
  },
  {
   "cell_type": "code",
   "execution_count": null,
   "id": "7d834072",
   "metadata": {
    "scrolled": true
   },
   "outputs": [],
   "source": [
    "stocks=soup.select('a.tltle')\n",
    "stocks\n",
    "\n",
    "stock_name=[]\n",
    "stock_href=[]\n",
    "for i in range(10):\n",
    "    stock_name.append(stocks[i].text)\n",
    "    stock_href.append(stocks[i].attrs['href'])\n",
    "    \n",
    "print('주식명: ' ,stock_name)   \n",
    "print()\n",
    "print('주식링크:' ,stock_href)    "
   ]
  },
  {
   "cell_type": "code",
   "execution_count": null,
   "id": "3122d7b8",
   "metadata": {},
   "outputs": [],
   "source": [
    "html2= requests.get(outter_link + stock_href[0])\n",
    "soup2=BeautifulSoup(html2.text, 'html.parser')\n",
    "print(soup2)"
   ]
  },
  {
   "cell_type": "code",
   "execution_count": null,
   "id": "3928430b",
   "metadata": {},
   "outputs": [],
   "source": [
    "detail_info=soup2.select_one('dl', class_='blind')\n",
    "detail_info"
   ]
  },
  {
   "cell_type": "code",
   "execution_count": null,
   "id": "825a46f3",
   "metadata": {
    "scrolled": true
   },
   "outputs": [],
   "source": [
    "for i in range(10):\n",
    "#상위 10개 종목의 각 링크\n",
    "    html2= requests.get(outter_link + stock_href[i])\n",
    "    soup2=BeautifulSoup(html2.text, 'html.parser')\n",
    "    detail_info=soup2.select_one('dl', class_='blind')\n",
    "\n",
    "#각 종목의 링크에서 데이터테이블에서 원하는 정보 7개만 뽑아오기\n",
    "    list=[1,2,3,4,5,6,8]\n",
    "    for j in list:\n",
    "        result=detail_info.select('dd')[j].text\n",
    "        print(result)"
   ]
  },
  {
   "cell_type": "code",
   "execution_count": null,
   "id": "44557777",
   "metadata": {},
   "outputs": [],
   "source": [
    "a={1: '삼성전자', 2: 'LG에너지솔루션', 3: 'SK하이닉스', 4: '삼성바이오로직스', 5: '삼성전자우', \n",
    "   6: '현대차', 7: 'NAVER', 8: 'LG화학', 9: '삼성SDI', 10: '기아'}"
   ]
  },
  {
   "cell_type": "code",
   "execution_count": 65,
   "id": "ac76f1e0",
   "metadata": {},
   "outputs": [
    {
     "name": "stdout",
     "output_type": "stream",
     "text": [
      "------------------------------\n",
      "[네이버 코스피 상위 10대 기업 목록]\n",
      "------------------------------\n",
      "[ 1]: '삼성전자'\n",
      "[ 2]: 'LG에너지솔루션'\n",
      "[ 3]: 'SK하이닉스'\n",
      "[ 4]: '삼성바이오로직스' \n",
      "[ 5]: '삼성전자우' \n",
      "[ 6]: '현대차'\n",
      "[ 7]: 'NAVER' \n",
      "[ 8]: 'LG화학' \n",
      "[ 9]: '삼성SDI' \n",
      "[ 10]: '기아' \n",
      "주가를 검색할 기업의 번호를 입력하세요(-1: 종료) \n",
      "\n",
      "주가를 검색할 기업의 번호를 입력하세요: 5\n",
      "종목명 삼성전자우\n",
      "종목코드 005935 코스피\n",
      "현재가 55,800 전일대비 하락 400 마이너스 0.71 퍼센트\n",
      "전일가 56,200\n",
      "시가 56,100\n",
      "고가 56,400\n",
      "저가 55,700\n",
      "주가를 검색할 기업의 번호를 입력하세요: -1\n",
      "------------------------------\n",
      "프로그램 종료\n",
      "------------------------------\n"
     ]
    }
   ],
   "source": [
    "print('-'*30)\n",
    "print('[네이버 코스피 상위 10대 기업 목록]')\n",
    "print('-'*30)\n",
    "print('''[ 1]: '삼성전자'\n",
    "[ 2]: 'LG에너지솔루션'\n",
    "[ 3]: 'SK하이닉스'\n",
    "[ 4]: '삼성바이오로직스' \n",
    "[ 5]: '삼성전자우' \n",
    "[ 6]: '현대차'\n",
    "[ 7]: 'NAVER' \n",
    "[ 8]: 'LG화학' \n",
    "[ 9]: '삼성SDI' \n",
    "[ 10]: '기아' \n",
    "주가를 검색할 기업의 번호를 입력하세요(-1: 종료) ''')\n",
    "print()      \n",
    "while True:\n",
    "    number=int(input('주가를 검색할 기업의 번호를 입력하세요: '))\n",
    "    if number==-1:\n",
    "        print('-'*30)\n",
    "        print('프로그램 종료')\n",
    "        print('-'*30)\n",
    "        break\n",
    "    else:\n",
    "        html2= requests.get(outter_link + stock_href[number-1])\n",
    "        soup2=BeautifulSoup(html2.text, 'html.parser')\n",
    "        detail_info=soup2.select_one('dl', class_='blind')\n",
    "        for j in list:\n",
    "            list=[1,2,3,4,5,6,8]\n",
    "            result=detail_info.select('dd')[j].text\n",
    "            print(result)\n"
   ]
  },
  {
   "cell_type": "code",
   "execution_count": null,
   "id": "8662fced",
   "metadata": {},
   "outputs": [],
   "source": []
  }
 ],
 "metadata": {
  "kernelspec": {
   "display_name": "Python 3 (ipykernel)",
   "language": "python",
   "name": "python3"
  },
  "language_info": {
   "codemirror_mode": {
    "name": "ipython",
    "version": 3
   },
   "file_extension": ".py",
   "mimetype": "text/x-python",
   "name": "python",
   "nbconvert_exporter": "python",
   "pygments_lexer": "ipython3",
   "version": "3.9.12"
  }
 },
 "nbformat": 4,
 "nbformat_minor": 5
}
