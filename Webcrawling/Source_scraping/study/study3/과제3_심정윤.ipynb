{
 "cells": [
  {
   "cell_type": "code",
   "execution_count": 7,
   "metadata": {},
   "outputs": [],
   "source": [
    "# MODULE\n",
    "from bs4 import BeautifulSoup\n",
    "import pandas as pd\n",
    "import time\n",
    "from itertools import count\n",
    "import requests\n"
   ]
  },
  {
   "cell_type": "code",
   "execution_count": 8,
   "metadata": {},
   "outputs": [
    {
     "name": "stdout",
     "output_type": "stream",
     "text": [
      "{1: ['삼성전자', 'https://finance.naver.com//item/main.naver?code=005930'], 2: ['LG에너지솔루션', 'https://finance.naver.com//item/main.naver?code=373220'], 3: ['SK하이닉스', 'https://finance.naver.com//item/main.naver?code=000660'], 4: ['삼성바이오로직스', 'https://finance.naver.com//item/main.naver?code=207940'], 5: ['삼성전자우', 'https://finance.naver.com//item/main.naver?code=005935'], 6: ['현대차', 'https://finance.naver.com//item/main.naver?code=005380'], 7: ['NAVER', 'https://finance.naver.com//item/main.naver?code=035420'], 8: ['LG화학', 'https://finance.naver.com//item/main.naver?code=051910'], 9: ['삼성SDI', 'https://finance.naver.com//item/main.naver?code=006400'], 10: ['기아', 'https://finance.naver.com//item/main.naver?code=000270']}\n"
     ]
    }
   ],
   "source": [
    "html = requests.get('https://finance.naver.com/sise/sise_market_sum.naver')\n",
    "soup = BeautifulSoup(html.text, 'html.parser')\n",
    "table=soup.find_all('tr',{'onmouseover':'mouseOver(this)'})\n",
    "\n",
    "url_head='https://finance.naver.com/'\n",
    "top10_dict={}\n",
    "i=1\n",
    "for one in table:\n",
    "    if i<=10:\n",
    "        stock=one.find('a', {'class':\"tltle\"})\n",
    "        name=stock.text\n",
    "        url=stock['href']\n",
    "        top10_dict[i]=[name, url_head+url]\n",
    "        i+=1\n",
    "    else:\n",
    "        break\n",
    "print(top10_dict)"
   ]
  },
  {
   "cell_type": "code",
   "execution_count": 9,
   "metadata": {},
   "outputs": [
    {
     "name": "stdout",
     "output_type": "stream",
     "text": [
      "https://finance.naver.com//item/main.naver?code=373220\n",
      "종목명 : LG에너지솔루션\n",
      "종목코드 : 373220\n",
      "현재가 : 391,000\n",
      "전일가 : 382,000\n",
      "시가 : 376,000\n",
      "고가 : 393,500\n",
      "저가 : 371,000\n"
     ]
    }
   ],
   "source": [
    "def get_stock_info(rank):\n",
    "    url=top10_dict[rank][1]\n",
    "    html = requests.get(url)\n",
    "    soup = BeautifulSoup(html.text, 'html.parser')\n",
    "    infos=soup.find('dl', {'class':'blind'})\n",
    "    children=infos.children\n",
    "    \n",
    "    infos_dict={}\n",
    "    i=0\n",
    "    for child in children:\n",
    "        if '\\n' not in child:\n",
    "            if i>1:\n",
    "                text_lst=child.text.split()\n",
    "                infos_dict[text_lst[0]]=text_lst[1]\n",
    "            i+=1\n",
    "    print(f\"{url}\\n종목명 : {infos_dict['종목명']}\\n종목코드 : {infos_dict['종목코드']}\\n현재가 : {infos_dict['현재가']}\\n전일가 : {infos_dict['전일가']}\\n시가 : {infos_dict['시가']}\\n고가 : {infos_dict['고가']}\\n저가 : {infos_dict['저가']}\")\n",
    "\n",
    "\n",
    "get_stock_info(2)"
   ]
  },
  {
   "cell_type": "code",
   "execution_count": 10,
   "metadata": {},
   "outputs": [],
   "source": [
    "# 프로그램 실행\n",
    "\n",
    "while True:\n",
    "    print('''-------------------------------------\n",
    "[ 네이버 코스피 상위 10대 기업 목록 ]\n",
    "-------------------------------------\n",
    "[ 1] 삼성전자\n",
    "[ 2] LG에너지솔루션\n",
    "[ 3] SK하이닉스\n",
    "[ 4] 삼성바이오로직스\n",
    "[ 5] 삼성전자우\n",
    "[ 6] NAVER\n",
    "[ 7] 현대차\n",
    "[ 8] LG화학\n",
    "[ 9] 삼성SDI\n",
    "[10] 기아\n",
    "''')\n",
    "    chosen=input('주가를 검색할 기업의 번호를 입력하세요(-1: 종료) : ')\n",
    "    try:\n",
    "        chosen=int(chosen)\n",
    "        if chosen>=1 and chosen<=10:\n",
    "                get_stock_info(chosen)\n",
    "        elif chosen==-1:\n",
    "            print(\"< 프로그램을 종료합니다. >\")\n",
    "            break\n",
    "        else:\n",
    "            print(' < OUTofRANGE ERROR : 잘못된 입력입니다.>')\n",
    "            continue\n",
    "    except:\n",
    "        print(' < INT ERROR : 잘못된 입력입니다.>')\n",
    "        continue\n"
   ]
  },
  {
   "cell_type": "markdown",
   "metadata": {},
   "source": [
    "### test : "
   ]
  },
  {
   "cell_type": "code",
   "execution_count": 11,
   "metadata": {},
   "outputs": [
    {
     "name": "stdout",
     "output_type": "stream",
     "text": [
      "{'종목명': '삼성전자', '종목코드': '005930', '현재가': '61,100', '전일가': '61,300', '시가': '60,900', '고가': '61,900', '상한가': '79,600', '저가': '60,800', '하한가': '43,000', '거래량': '8,939,057', '거래대금': '550,008백만'}\n",
      "https://finance.naver.com//item/main.naver?code=005930\n",
      "종목명 : 삼성전자\n",
      "종목코드 : 005930\n",
      "현재가 : 61,100\n",
      "전일가 : 61,300\n",
      "시가 : 60,900\n",
      "고가 : 61,900\n",
      "저가 : 60,800\n"
     ]
    }
   ],
   "source": [
    "url=top10_dict[1][1]\n",
    "html = requests.get(url)\n",
    "soup = BeautifulSoup(html.text, 'html.parser')\n",
    "infos=soup.find('dl', {'class':'blind'})\n",
    "children=infos.children\n",
    "\n",
    "infos_dict={}\n",
    "i=0\n",
    "for child in children:\n",
    "    if '\\n' not in child:\n",
    "        if i>1:\n",
    "            text_lst=child.text.split()\n",
    "            infos_dict[text_lst[0]]=text_lst[1]\n",
    "        i+=1\n",
    "print(infos_dict)\n",
    "print(f\"{url}\\n종목명 : {infos_dict['종목명']}\\n종목코드 : {infos_dict['종목코드']}\\n현재가 : {infos_dict['현재가']}\\n전일가 : {infos_dict['전일가']}\\n시가 : {infos_dict['시가']}\\n고가 : {infos_dict['고가']}\\n저가 : {infos_dict['저가']}\")\n"
   ]
  },
  {
   "cell_type": "code",
   "execution_count": 12,
   "metadata": {},
   "outputs": [
    {
     "name": "stdout",
     "output_type": "stream",
     "text": [
      "-------------------------------------\n",
      "[ 네이버 코스피 상위 10대 기업 목록 ]\n",
      "-------------------------------------\n",
      "[ 1] 삼성전자\n",
      "[ 2] LG에너지솔루션\n",
      "[ 3] SK하이닉스\n",
      "[ 4] 삼성바이오로직스\n",
      "[ 5] 삼성전자우\n",
      "[ 6] NAVER\n",
      "[ 7] 현대차\n",
      "[ 8] LG화학\n",
      "[ 9] 삼성SDI\n",
      "[10] 기아\n",
      "\n",
      "https://finance.naver.com//item/main.naver?code=000270\n",
      "종목명 : 기아\n",
      "종목코드 : 000270\n",
      "현재가 : 82,300\n",
      "전일가 : 80,900\n",
      "시가 : 81,300\n",
      "고가 : 83,300\n",
      "저가 : 81,200\n",
      "-------------------------------------\n",
      "[ 네이버 코스피 상위 10대 기업 목록 ]\n",
      "-------------------------------------\n",
      "[ 1] 삼성전자\n",
      "[ 2] LG에너지솔루션\n",
      "[ 3] SK하이닉스\n",
      "[ 4] 삼성바이오로직스\n",
      "[ 5] 삼성전자우\n",
      "[ 6] NAVER\n",
      "[ 7] 현대차\n",
      "[ 8] LG화학\n",
      "[ 9] 삼성SDI\n",
      "[10] 기아\n",
      "\n",
      "https://finance.naver.com//item/main.naver?code=000270\n",
      "종목명 : 기아\n",
      "종목코드 : 000270\n",
      "현재가 : 82,300\n",
      "전일가 : 80,900\n",
      "시가 : 81,300\n",
      "고가 : 83,300\n",
      "저가 : 81,200\n",
      "-------------------------------------\n",
      "[ 네이버 코스피 상위 10대 기업 목록 ]\n",
      "-------------------------------------\n",
      "[ 1] 삼성전자\n",
      "[ 2] LG에너지솔루션\n",
      "[ 3] SK하이닉스\n",
      "[ 4] 삼성바이오로직스\n",
      "[ 5] 삼성전자우\n",
      "[ 6] NAVER\n",
      "[ 7] 현대차\n",
      "[ 8] LG화학\n",
      "[ 9] 삼성SDI\n",
      "[10] 기아\n",
      "\n"
     ]
    },
    {
     "data": {
      "text/plain": [
       "7"
      ]
     },
     "execution_count": 12,
     "metadata": {},
     "output_type": "execute_result"
    }
   ],
   "source": [
    "\n",
    "\n",
    "\n",
    "        \n",
    "7"
   ]
  },
  {
   "cell_type": "code",
   "execution_count": null,
   "metadata": {},
   "outputs": [],
   "source": []
  }
 ],
 "metadata": {
  "kernelspec": {
   "display_name": "Python 3.9.12 ('EV_PY39')",
   "language": "python",
   "name": "python3"
  },
  "language_info": {
   "codemirror_mode": {
    "name": "ipython",
    "version": 3
   },
   "file_extension": ".py",
   "mimetype": "text/x-python",
   "name": "python",
   "nbconvert_exporter": "python",
   "pygments_lexer": "ipython3",
   "version": "3.9.12"
  },
  "orig_nbformat": 4,
  "vscode": {
   "interpreter": {
    "hash": "d1dde8d3f1fc6169eb2afb9c884f1482ff31994a855398e316a83a9dc8ff488b"
   }
  }
 },
 "nbformat": 4,
 "nbformat_minor": 2
}
