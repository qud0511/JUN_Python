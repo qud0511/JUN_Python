{
 "cells": [
  {
   "cell_type": "markdown",
   "metadata": {},
   "source": [
    "#### 2. 저장된 csv파일을 읽어서 사용자가 입력한 지역에 있는 매장 정보 출력\n",
    "- 소스 파일: hw02_find_coffeeshop.ipynb (또는 py)"
   ]
  },
  {
   "cell_type": "code",
   "execution_count": null,
   "metadata": {},
   "outputs": [],
   "source": [
    "import pandas as pd\n",
    "df = pd.read_csv('hollys_branches.csv')\n",
    "\n",
    "user_input = input('검색할 매장의 도시를 입력하세요: ')\n",
    "\n",
    "print('-' * 30 )\n",
    "print(f'검색할 매장의 도시를 입력하세요: {user_input}')\n",
    "\n",
    "df2 = df.copy()\n",
    "for i in user_input.split():\n",
    "    df2 = df2[df2['주소'].str.contains(i)].copy().reset_index(drop=True)\n",
    "\n",
    "print('--------------------')\n",
    "print('검색된 매장 수: {}'.format(len(df2)))\n",
    "print('-------------------')\n",
    "\n",
    "for i in df2.index:\n",
    "\n",
    "    print('[{}]: [{},{}]'.format(i+1,df2['주소'][i],df2['전화번호'][i]))"
   ]
  }
 ],
 "metadata": {
  "kernelspec": {
   "display_name": "Python 3.9.12 ('base')",
   "language": "python",
   "name": "python3"
  },
  "language_info": {
   "name": "python",
   "version": "3.9.12"
  },
  "orig_nbformat": 4,
  "vscode": {
   "interpreter": {
    "hash": "ad2bdc8ecc057115af97d19610ffacc2b4e99fae6737bb82f5d7fb13d2f2c186"
   }
  }
 },
 "nbformat": 4,
 "nbformat_minor": 2
}
