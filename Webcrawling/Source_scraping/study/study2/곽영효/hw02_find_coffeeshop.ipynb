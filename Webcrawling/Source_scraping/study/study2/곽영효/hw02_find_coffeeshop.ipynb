{
 "cells": [
  {
   "cell_type": "code",
   "execution_count": 1,
   "id": "03499544",
   "metadata": {},
   "outputs": [],
   "source": [
    "from urllib.request import urlopen\n",
    "from bs4 import BeautifulSoup\n",
    "import re\n",
    "import pandas as pd"
   ]
  },
  {
   "cell_type": "code",
   "execution_count": 56,
   "id": "0555a2f8",
   "metadata": {},
   "outputs": [],
   "source": [
    "def main():\n",
    "    df = pd.read_csv('./hollys_branches.csv', encoding='utf-8')\n",
    "    df.drop('Unnamed: 0', axis=1, inplace=True)\n",
    "    df.head()\n",
    "    \n",
    "    city = input('검색할 매장의 도시를 입력하세요: ')\n",
    "    print('-'*30)\n",
    "    print(f'검색된 매장 수: {len(df[city == df[\"위치(시,구)\"]].index)}')\n",
    "    print('-'*30)\n",
    "    for i in range(len(df[city == df['위치(시,구)']].index)):\n",
    "        print(f\"[ {i+1}]:  ['{df[city == df['위치(시,구)']].iloc[i]['주소']}', '{df[city == df['위치(시,구)']].iloc[i]['전화번호']}']\")"
   ]
  },
  {
   "cell_type": "code",
   "execution_count": 57,
   "id": "87bd6af1",
   "metadata": {},
   "outputs": [
    {
     "name": "stdout",
     "output_type": "stream",
     "text": [
      "검색할 매장의 도시를 입력하세요: 대구 북구\n",
      "------------------------------\n",
      "검색된 매장 수: 6\n",
      "------------------------------\n",
      "[ 1]:  ['대구광역시 북구 동화천로 229 (연경동) 1층~2층', '053-982-6877']\n",
      "[ 2]:  ['대구광역시 북구 대학로 17길 3 (산격동 1393-11) 할리스 B1~3층', '053-951-9990']\n",
      "[ 3]:  ['대구광역시 북구 구암로 59 비전스퀘어 1,2층 .', '053-324-6122']\n",
      "[ 4]:  ['대구광역시 북구 침산남로 157 (침산동) .', '053-353-5544']\n",
      "[ 5]:  ['대구 북구 성북로 36,2층 601,602,603,604 473-3, 침산초등학교 맞은편', '053-353-5412']\n",
      "[ 6]:  ['대구광역시 북구 동천로 125 (동천동) .', '053-321-0099']\n"
     ]
    }
   ],
   "source": [
    "main()"
   ]
  }
 ],
 "metadata": {
  "kernelspec": {
   "display_name": "Python 3 (ipykernel)",
   "language": "python",
   "name": "python3"
  },
  "language_info": {
   "codemirror_mode": {
    "name": "ipython",
    "version": 3
   },
   "file_extension": ".py",
   "mimetype": "text/x-python",
   "name": "python",
   "nbconvert_exporter": "python",
   "pygments_lexer": "ipython3",
   "version": "3.9.12"
  }
 },
 "nbformat": 4,
 "nbformat_minor": 5
}
