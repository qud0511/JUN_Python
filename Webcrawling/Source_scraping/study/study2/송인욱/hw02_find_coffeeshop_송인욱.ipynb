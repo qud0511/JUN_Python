{
 "cells": [
  {
   "cell_type": "code",
   "execution_count": 6,
   "metadata": {},
   "outputs": [],
   "source": [
    "import pandas as pd\n",
    "import re\n",
    "\n",
    "data = pd.read_csv(\"./hw2_coffeshop_송인욱.csv\", encoding=\"utf-8\", )"
   ]
  },
  {
   "cell_type": "code",
   "execution_count": 7,
   "metadata": {},
   "outputs": [
    {
     "data": {
      "text/plain": [
       "['대구', '동구']"
      ]
     },
     "execution_count": 7,
     "metadata": {},
     "output_type": "execute_result"
    }
   ],
   "source": [
    "def make_input_list():\n",
    "    \"\"\"입력 데이터 리스트로 바꿔주는 함수\n",
    "\n",
    "    Returns:\n",
    "        list: 입력받은 데이터\n",
    "    \"\"\"\n",
    "    find_region = input(\"검색할 매장의 도시를 입력하세요: \")\n",
    "    input_list = find_region.split()\n",
    "    return input_list\n",
    "\n",
    "input_list = make_input_list()\n",
    "input_list"
   ]
  },
  {
   "cell_type": "code",
   "execution_count": 8,
   "metadata": {},
   "outputs": [
    {
     "name": "stdout",
     "output_type": "stream",
     "text": [
      "[re.compile('대구'), re.compile('동구')]\n"
     ]
    }
   ],
   "source": [
    "def make_complie_list(input_list: list):\n",
    "    \"\"\"입력받은 데이터로 컴파일 만들어주는 함수\n",
    "\n",
    "    Args:\n",
    "        input_list (list): 입력받은 데이터 리스트\n",
    "\n",
    "    Returns:\n",
    "        list: 컴파일 리스트\n",
    "    \"\"\"\n",
    "    compile_list = []\n",
    "    for msg in input_list:\n",
    "        p = re.compile(msg)\n",
    "        compile_list.append(p)\n",
    "    return compile_list\n",
    "    \n",
    "compile_list =  make_complie_list(input_list)\n",
    "print(compile_list)"
   ]
  },
  {
   "cell_type": "code",
   "execution_count": 9,
   "metadata": {},
   "outputs": [
    {
     "data": {
      "text/html": [
       "<div>\n",
       "<style scoped>\n",
       "    .dataframe tbody tr th:only-of-type {\n",
       "        vertical-align: middle;\n",
       "    }\n",
       "\n",
       "    .dataframe tbody tr th {\n",
       "        vertical-align: top;\n",
       "    }\n",
       "\n",
       "    .dataframe thead th {\n",
       "        text-align: right;\n",
       "    }\n",
       "</style>\n",
       "<table border=\"1\" class=\"dataframe\">\n",
       "  <thead>\n",
       "    <tr style=\"text-align: right;\">\n",
       "      <th></th>\n",
       "      <th>매장이름</th>\n",
       "      <th>위치(시,구)</th>\n",
       "      <th>주소</th>\n",
       "      <th>전화번호</th>\n",
       "    </tr>\n",
       "  </thead>\n",
       "  <tbody>\n",
       "    <tr>\n",
       "      <th>75</th>\n",
       "      <td>대구봉무공원점</td>\n",
       "      <td>대구 동구</td>\n",
       "      <td>대구광역시 동구 단산길 4 (봉무동) 1~2층</td>\n",
       "      <td>053-984-3001</td>\n",
       "    </tr>\n",
       "    <tr>\n",
       "      <th>241</th>\n",
       "      <td>동대구역사점</td>\n",
       "      <td>대구 동구</td>\n",
       "      <td>대구광역시 동구 동대구로 550 (동대구역 내 1층)</td>\n",
       "      <td>053-942-1033</td>\n",
       "    </tr>\n",
       "    <tr>\n",
       "      <th>286</th>\n",
       "      <td>대구안심점</td>\n",
       "      <td>대구 동구</td>\n",
       "      <td>대구시 동구 안심로 90길29 .</td>\n",
       "      <td>053)552-2220</td>\n",
       "    </tr>\n",
       "    <tr>\n",
       "      <th>297</th>\n",
       "      <td>동대구환승센터점</td>\n",
       "      <td>대구 동구</td>\n",
       "      <td>대구광역시 동구 동부로 149 (신천동, 신세계동대구복합환승센터) 3층</td>\n",
       "      <td>053-742-0614</td>\n",
       "    </tr>\n",
       "  </tbody>\n",
       "</table>\n",
       "</div>"
      ],
      "text/plain": [
       "         매장이름 위치(시,구)                                       주소          전화번호\n",
       "75    대구봉무공원점   대구 동구                대구광역시 동구 단산길 4 (봉무동) 1~2층  053-984-3001\n",
       "241    동대구역사점   대구 동구            대구광역시 동구 동대구로 550 (동대구역 내 1층)  053-942-1033\n",
       "286     대구안심점   대구 동구                       대구시 동구 안심로 90길29 .  053)552-2220\n",
       "297  동대구환승센터점   대구 동구  대구광역시 동구 동부로 149 (신천동, 신세계동대구복합환승센터) 3층  053-742-0614"
      ]
     },
     "execution_count": 9,
     "metadata": {},
     "output_type": "execute_result"
    }
   ],
   "source": [
    "def find_data_region(data: pd.DataFrame, compile_list: list):\n",
    "    \"\"\"컴파일 리스트 적용시켜서 값 찾아주는 함수\n",
    "\n",
    "    Args:\n",
    "        data (pd.DataFrame): 값 찾을 데이터프레임\n",
    "        compile_list (list): 컴파일 리스트\n",
    "\n",
    "    Returns:\n",
    "        DataFrame: 컴파일 적용한 데이터프레임\n",
    "    \"\"\"\n",
    "    for p in compile_list:\n",
    "        data = data[data[\"주소\"].apply(lambda x: True if p.search(x) else False)]\n",
    "    return data\n",
    "\n",
    "\n",
    "find_data = find_data_region(data, compile_list)\n",
    "find_data"
   ]
  },
  {
   "cell_type": "code",
   "execution_count": 10,
   "metadata": {},
   "outputs": [
    {
     "name": "stdout",
     "output_type": "stream",
     "text": [
      "--------------------\n",
      "검색된 매장 수: 4\n",
      "--------------------\n",
      "[  1]: 대구광역시 동구 단산길 4 (봉무동) 1~2층, 053-984-3001\n",
      "[  2]: 대구광역시 동구 동대구로 550 (동대구역 내 1층), 053-942-1033\n",
      "[  3]: 대구시 동구 안심로 90길29 ., 053)552-2220\n",
      "[  4]: 대구광역시 동구 동부로 149 (신천동, 신세계동대구복합환승센터) 3층, 053-742-0614\n"
     ]
    }
   ],
   "source": [
    "def print_data(find_data: pd.DataFrame):\n",
    "    \"\"\"값 출력해주는 함수\n",
    "\n",
    "    Args:\n",
    "        find_data (pd.DataFrame): 출력할 데이터 프레임\n",
    "    \"\"\"\n",
    "    len = find_data.shape[0]\n",
    "    print(\"-\" * 20)\n",
    "    print(f\"검색된 매장 수: {len}\")\n",
    "    print(\"-\" * 20)\n",
    "    for i in range(len):\n",
    "        print(\"[{0:3d}]: {1}, {2}\".format(i + 1, find_data.iloc[i, 2], find_data.iloc[i, 3]))\n",
    "\n",
    "\n",
    "print_data(find_data)"
   ]
  }
 ],
 "metadata": {
  "kernelspec": {
   "display_name": "Python 3.9.12 ('EV_PY39')",
   "language": "python",
   "name": "python3"
  },
  "language_info": {
   "codemirror_mode": {
    "name": "ipython",
    "version": 3
   },
   "file_extension": ".py",
   "mimetype": "text/x-python",
   "name": "python",
   "nbconvert_exporter": "python",
   "pygments_lexer": "ipython3",
   "version": "3.9.12"
  },
  "orig_nbformat": 4,
  "vscode": {
   "interpreter": {
    "hash": "7046fadfc8eb06ac6ccb78d8ddd5e12eef28a4f384be78d2cf2a68fb34b54387"
   }
  }
 },
 "nbformat": 4,
 "nbformat_minor": 2
}
