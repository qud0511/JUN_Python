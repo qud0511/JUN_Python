{
 "cells": [
  {
   "cell_type": "markdown",
   "source": [
    "# 정규식 예제"
   ],
   "metadata": {
    "collapsed": false,
    "pycharm": {
     "name": "#%% md\n"
    }
   }
  },
  {
   "cell_type": "code",
   "execution_count": 2,
   "outputs": [
    {
     "name": "stdout",
     "output_type": "stream",
     "text": [
      "['3', '1', '0', '0', '4', '2', '0', '2', '1']\n"
     ]
    }
   ],
   "source": [
    "import re\n",
    "\n",
    "s = 'Python 3.10 was released on October 04, 2021'\n",
    "\n",
    "#p = re.compile('\\d') # 숫자 1개 검색\n",
    "p = re.compile('\\d+') # 숫자 1개 이상인 경우 검색\n",
    "result = p.findall(s)\n",
    "print(result)"
   ],
   "metadata": {
    "collapsed": false,
    "pycharm": {
     "name": "#%%\n"
    }
   }
  },
  {
   "cell_type": "markdown",
   "source": [
    "## re.search()\n",
    "#### \\A : 문자열의 시작이 일치하는지 검사\n",
    "#### 첫 번째 일치하는 Match 객체 리턴 또는 None"
   ],
   "metadata": {
    "collapsed": false,
    "pycharm": {
     "name": "#%% md\n"
    }
   }
  },
  {
   "cell_type": "code",
   "execution_count": 22,
   "outputs": [
    {
     "name": "stdout",
     "output_type": "stream",
     "text": [
      "<re.Match object; span=(0, 6), match='Python'>\n",
      "pattern found\n"
     ]
    }
   ],
   "source": [
    "import re\n",
    "string = 'Python is fun'\n",
    "match = re.search('\\APython', string)\n",
    "print(match)\n",
    "if match:\n",
    "    print('pattern found')\n",
    "else:\n",
    "    print('pattern not found')"
   ],
   "metadata": {
    "collapsed": false,
    "pycharm": {
     "name": "#%%\n"
    }
   }
  },
  {
   "cell_type": "code",
   "execution_count": 23,
   "outputs": [
    {
     "name": "stdout",
     "output_type": "stream",
     "text": [
      "<re.Match object; span=(41, 45), match='2021'>\n",
      "2021\n"
     ]
    }
   ],
   "source": [
    "import re\n",
    "\n",
    "s = 'Python 3.10 was released on October 04, 2021'\n",
    "\n",
    "pattern = '\\d{4}' # 숫자가 4개인 경우 검색\n",
    "match = re.search(pattern, s)\n",
    "print(match)\n",
    "start, end = match.span() # match.span():문자열에서 일치하는 인덱스(start, end)를 받음\n",
    "\n",
    "match_string = s[start:end] # 문자열 s에서 해당 index를 분리\n",
    "print(match_string)"
   ],
   "metadata": {
    "collapsed": false,
    "pycharm": {
     "name": "#%%\n"
    }
   }
  },
  {
   "cell_type": "markdown",
   "source": [
    "## Match object\n",
    "#### - group(): 매칭된 문자열을 리턴\n",
    "#### - start(): 매칭된 문자열의 시작 위치를 리턴\n",
    "#### - end(): 매칭된 문자열의 마지막 위치(인덱스)를 리턴\n",
    "#### - span(): 매칭된 부분의 튜플 (start, end)을 리턴"
   ],
   "metadata": {
    "collapsed": false,
    "pycharm": {
     "name": "#%% md\n"
    }
   }
  },
  {
   "cell_type": "code",
   "execution_count": 24,
   "outputs": [
    {
     "name": "stdout",
     "output_type": "stream",
     "text": [
      "Matched string: 10\n",
      "Start position: 9\n",
      "End position: 11\n",
      "Position span: (9, 11)\n"
     ]
    }
   ],
   "source": [
    "import re\n",
    "\n",
    "s = 'Python 3.10 was released on Octorber 04, 2021.'\n",
    "\n",
    "result = re.search('\\d{2}', s)\n",
    "print('Matched string:', result.group())\n",
    "print('Start position:', result.start())\n",
    "print('End position:', result.end())\n",
    "print('Position span:', result.span())"
   ],
   "metadata": {
    "collapsed": false,
    "pycharm": {
     "name": "#%%\n"
    }
   }
  },
  {
   "cell_type": "markdown",
   "source": [
    "#### match() 함수\n",
    "- Match 오브젝트 리턴"
   ],
   "metadata": {
    "collapsed": false,
    "pycharm": {
     "name": "#%% md\n"
    }
   }
  },
  {
   "cell_type": "code",
   "execution_count": 30,
   "outputs": [
    {
     "name": "stdout",
     "output_type": "stream",
     "text": [
      "<re.Match object; span=(0, 6), match='Python'>\n",
      "None\n",
      "<re.Match object; span=(0, 6), match='Jython'>\n",
      "None\n"
     ]
    }
   ],
   "source": [
    "import re\n",
    "\n",
    "string_list = ['Python',\n",
    "               'CPython is an implementation of Python written in C',\n",
    "               'Jython is a Java implementation of Python',\n",
    "               'IronPython is Python on .NET framework']\n",
    "\n",
    "pattern = '\\w{1}ython' # \\w: [a-zA-Z_0-9]와 동일 (알파벳, 숫자, '_' 검색) 한개\n",
    "for s in string_list:\n",
    "    result = re.match(pattern, s) # 문자열의 시작부분부터 일치 여부 조사\n",
    "    print(result)"
   ],
   "metadata": {
    "collapsed": false,
    "pycharm": {
     "name": "#%%\n"
    }
   }
  },
  {
   "cell_type": "code",
   "execution_count": 21,
   "outputs": [
    {
     "name": "stdout",
     "output_type": "stream",
     "text": [
      "Search successful\n"
     ]
    }
   ],
   "source": [
    "import re\n",
    "\n",
    "pattern = '^a...s$' # a와 s 사이에 3개의 임의의 문자가 존재\n",
    "test_string = 'abyss'\n",
    "result = re.match(pattern, test_string)\n",
    "\n",
    "if result:\n",
    "    print('Search successful')\n",
    "else:\n",
    "    print('Search unsuccessful')"
   ],
   "metadata": {
    "collapsed": false,
    "pycharm": {
     "name": "#%%\n"
    }
   }
  },
  {
   "cell_type": "markdown",
   "source": [
    "## re.findall()"
   ],
   "metadata": {
    "collapsed": false,
    "pycharm": {
     "name": "#%% md\n"
    }
   }
  },
  {
   "cell_type": "code",
   "execution_count": 5,
   "outputs": [
    {
     "name": "stdout",
     "output_type": "stream",
     "text": [
      "['12', '8', '34']\n"
     ]
    }
   ],
   "source": [
    "import re\n",
    "\n",
    "string = 'hello 12 hi 890. Howdy 34'\n",
    "pattern = '\\d+'\n",
    "result = re.findall(pattern, string)\n",
    "print(result)"
   ],
   "metadata": {
    "collapsed": false,
    "pycharm": {
     "name": "#%%\n"
    }
   }
  },
  {
   "cell_type": "markdown",
   "source": [
    "## re.split()"
   ],
   "metadata": {
    "collapsed": false,
    "pycharm": {
     "name": "#%% md\n"
    }
   }
  },
  {
   "cell_type": "code",
   "execution_count": 3,
   "outputs": [
    {
     "name": "stdout",
     "output_type": "stream",
     "text": [
      "['Twelve:', ' Eighty nine:', '.']\n"
     ]
    }
   ],
   "source": [
    "import re\n",
    "string = 'Twelve:12 Eighty nine:89.'\n",
    "pattern = '\\d+'\n",
    "\n",
    "result = re.split(pattern, string)\n",
    "#result = re.split(pattern, string, 1) # maxsplit=1\n",
    "print(result)"
   ],
   "metadata": {
    "collapsed": false,
    "pycharm": {
     "name": "#%%\n"
    }
   }
  },
  {
   "cell_type": "code",
   "execution_count": null,
   "outputs": [],
   "source": [],
   "metadata": {
    "collapsed": false,
    "pycharm": {
     "name": "#%%\n"
    }
   }
  }
 ],
 "metadata": {
  "kernelspec": {
   "display_name": "Python 3",
   "language": "python",
   "name": "python3"
  },
  "language_info": {
   "codemirror_mode": {
    "name": "ipython",
    "version": 2
   },
   "file_extension": ".py",
   "mimetype": "text/x-python",
   "name": "python",
   "nbconvert_exporter": "python",
   "pygments_lexer": "ipython2",
   "version": "2.7.6"
  }
 },
 "nbformat": 4,
 "nbformat_minor": 0
}