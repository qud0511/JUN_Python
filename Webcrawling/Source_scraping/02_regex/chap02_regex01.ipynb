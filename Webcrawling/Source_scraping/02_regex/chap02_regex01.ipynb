{
 "cells": [
  {
   "cell_type": "markdown",
   "source": [
    "# 2일차. 정규식(Regula Expression)"
   ],
   "metadata": {
    "collapsed": false,
    "pycharm": {
     "name": "#%% md\n"
    }
   }
  },
  {
   "cell_type": "code",
   "execution_count": 1,
   "outputs": [
    {
     "name": "stdout",
     "output_type": "stream",
     "text": [
      "None\n",
      "<re.Match object; span=(7, 12), match='apple'>\n"
     ]
    }
   ],
   "source": [
    "import re\n",
    "\n",
    "# compile() 사용 안함\n",
    "# match(pattern, 문자열)\n",
    "m = re.match('[a-z]+', 'Python') # 알파벳 소문자\n",
    "print(m)\n",
    "print(re.search('apple', 'I like apple!'))"
   ],
   "metadata": {
    "collapsed": false,
    "pycharm": {
     "name": "#%%\n"
    }
   }
  },
  {
   "cell_type": "code",
   "execution_count": 2,
   "outputs": [
    {
     "name": "stdout",
     "output_type": "stream",
     "text": [
      "<re.Match object; span=(0, 6), match='python'>\n",
      "<re.Match object; span=(2, 6), match='like'>\n",
      "like\n"
     ]
    }
   ],
   "source": [
    "p = re.compile('[a-z]+') # 알파벳 소문자 \\w: 알파벳, 숫자, _\n",
    "m = p.match('python')\n",
    "print(m)\n",
    "\n",
    "print(p.search('I like apple 123'))\n",
    "print(p.search('I like apple 123').group(0)) # group(), group(0): 매칭되는 전체 문자열 리턴"
   ],
   "metadata": {
    "collapsed": false,
    "pycharm": {
     "name": "#%%\n"
    }
   }
  },
  {
   "cell_type": "markdown",
   "source": [
    "#### *findall()* 메소드\n",
    "- 일치하는 모든 문자열을 리스트로 리턴"
   ],
   "metadata": {
    "collapsed": false,
    "pycharm": {
     "name": "#%% md\n"
    }
   }
  },
  {
   "cell_type": "code",
   "execution_count": 3,
   "outputs": [
    {
     "name": "stdout",
     "output_type": "stream",
     "text": [
      "['ife', 'is', 'too', 'short']\n"
     ]
    }
   ],
   "source": [
    "p = re.compile('[a-z]+')\n",
    "print(p.findall('Life is too short'))"
   ],
   "metadata": {
    "collapsed": false,
    "pycharm": {
     "name": "#%%\n"
    }
   }
  },
  {
   "cell_type": "markdown",
   "source": [
    "#### *search()* 메소드\n",
    "- 일치하는 첫 번째 문자열만 리턴"
   ],
   "metadata": {
    "collapsed": false,
    "pycharm": {
     "name": "#%% md\n"
    }
   }
  },
  {
   "cell_type": "code",
   "execution_count": 5,
   "outputs": [
    {
     "name": "stdout",
     "output_type": "stream",
     "text": [
      "<re.Match object; span=(2, 6), match='like'>\n",
      "['like', 'apple']\n",
      "like\n"
     ]
    }
   ],
   "source": [
    "p = re.compile('[a-z]+')\n",
    "result = p.search('I like apple 123')\n",
    "print(result)\n",
    "\n",
    "result = p.findall('I like apple 123')\n",
    "print(result)\n",
    "print(result[0])"
   ],
   "metadata": {
    "collapsed": false,
    "pycharm": {
     "name": "#%%\n"
    }
   }
  },
  {
   "cell_type": "markdown",
   "source": [
    "#### *match()* 메소드\n",
    "- 전화번호 분석 (지역번호-국번-전화번호)\n",
    "- (2,3자리)-(3,4자리)-(4자리)"
   ],
   "metadata": {
    "collapsed": false,
    "pycharm": {
     "name": "#%% md\n"
    }
   }
  },
  {
   "cell_type": "code",
   "execution_count": 9,
   "outputs": [
    {
     "name": "stdout",
     "output_type": "stream",
     "text": [
      "<re.Match object; span=(0, 11), match='02-123-4567'>\n",
      "None\n",
      "None\n"
     ]
    }
   ],
   "source": [
    "import re\n",
    "                        # 02, 053-123-4567, 053-1234-4567\n",
    "tel_checker = re.compile('^(\\d{2,3})-(\\d{3,4})-(\\d{4})$')\n",
    "\n",
    "print(tel_checker.match('02-123-4567'))\n",
    "print(tel_checker.match('053-950-45678')) #마지막 자리수가 틀림\n",
    "print(tel_checker.match('053950-4567')) # dash가 없음"
   ],
   "metadata": {
    "collapsed": false,
    "pycharm": {
     "name": "#%%\n"
    }
   }
  },
  {
   "cell_type": "markdown",
   "source": [
    "#### *groups()*\n",
    "- 매칭 결과를 튜플로 출력"
   ],
   "metadata": {
    "collapsed": false,
    "pycharm": {
     "name": "#%% md\n"
    }
   }
  },
  {
   "cell_type": "code",
   "execution_count": 15,
   "outputs": [
    {
     "name": "stdout",
     "output_type": "stream",
     "text": [
      "('02', '123', '4567')\n",
      "group(0): 02-123-4567\n",
      "group(1): 02\n",
      "group(2,3): ('123', '4567')\n",
      "start(): 0\n",
      "end(): 11\n"
     ]
    }
   ],
   "source": [
    "# tel_checker = re.compile('^(\\d{2,3})-(\\d{3,4})-(\\d{4})$')\n",
    "m = tel_checker.match('02-123-4567')\n",
    "print(m.groups()) # 튜플 형태로 리턴\n",
    "print('group(0):', m.group(0)) # group(), group(0): (02)-(123)-(4567)\n",
    "print('group(1):', m.group(1)) #           (1) (2)  (3)\n",
    "print('group(2,3):', m.group(2,3))\n",
    "print('start():', m.start()) # 매칭된 전체 문자열의 시작 인덱스\n",
    "print('end():', m.end()) # 마지막 인덱스 + 1"
   ],
   "metadata": {
    "collapsed": false,
    "pycharm": {
     "name": "#%%\n"
    }
   }
  },
  {
   "cell_type": "markdown",
   "source": [
    "#### 전방 긍정 탐색: (?=패턴)\n",
    "- 패턴과 일치하는 문장열을 만나면 패턴 앞의 문자열 반환\n",
    "\n",
    "#### 전방 부정 탐색: (?!패턴)\n",
    "- 패턴과 일치하지 않는 문자열을 만나면 해당 문자열 반환"
   ],
   "metadata": {
    "collapsed": false,
    "pycharm": {
     "name": "#%% md\n"
    }
   }
  },
  {
   "cell_type": "code",
   "execution_count": 7,
   "outputs": [
    {
     "name": "stdout",
     "output_type": "stream",
     "text": [
      "<re.Match object; span=(0, 5), match='1000 '>\n",
      "<re.Match object; span=(0, 24), match='2022-07-01 00:00:01 ABC.'>\n",
      "<re.Match object; span=(9, 13), match='5678'>\n"
     ]
    }
   ],
   "source": [
    "import re\n",
    "\n",
    "# 전방 긍정 탐색 (.: 임의의 문자\n",
    "lookahead1 = re.search('.+(?=won)', '1000 won') # 패턴(won) 앞의 문자열을 가지고 옴\n",
    "print(lookahead1)\n",
    "\n",
    "lookahead2 = re.search('.+(?=log:)', '2022-07-01 00:00:01 ABC.log: 전방탐색')\n",
    "print(lookahead2)\n",
    "\n",
    "# 전방 부정 탐색\n",
    "lookahead3 = re.search('\\d{4}(?!-)', '010-1234-5678')\n",
    "print(lookahead3)"
   ],
   "metadata": {
    "collapsed": false,
    "pycharm": {
     "name": "#%%\n"
    }
   }
  },
  {
   "cell_type": "markdown",
   "source": [
    "#### 후방 긍정 탐색: (?<=패턴)\n",
    "- 패턴과 일치하는 문자열을 만나면 패턴 뒤의 문자열을 반환\n",
    "#### 후방 부정 탐색: (?>!패턴)\n",
    "- 패턴과 일치하지 않는 문자열을 만나면 해당 문자열 반환"
   ],
   "metadata": {
    "collapsed": false,
    "pycharm": {
     "name": "#%% md\n"
    }
   }
  },
  {
   "cell_type": "code",
   "execution_count": 18,
   "outputs": [
    {
     "name": "stdout",
     "output_type": "stream",
     "text": [
      "<re.Match object; span=(28, 43), match=' this is python'>\n",
      "<re.Match object; span=(4, 8), match=' $51'>\n",
      "<re.Match object; span=(15, 18), match='100'>\n",
      "<re.Match object; span=(15, 18), match='100'>\n"
     ]
    }
   ],
   "source": [
    "# 후방 긍정 탐색\n",
    "lookbehind1 = re.search('(?<=log:).+', '2022-07-01 00:00:01 ABC.log: this is python')\n",
    "print(lookbehind1)\n",
    "\n",
    "lookbehind2 = re.search('(?<=:).+', 'USD: $51')\n",
    "print(lookbehind2)\n",
    "\n",
    "# 후방 부정 탐색 (\\b: blank)\n",
    "lookbehind3 = re.search('\\\\b(?<!\\$)\\\\d+\\\\b', 'I paid $30 for 100 apples.')\n",
    "print(lookbehind3)\n",
    "# r'문자열'\n",
    "lookbehind4 = re.search(r'\\b(?<!\\$)\\d+\\b', 'I paid $30 for 100 apples.')\n",
    "print(lookbehind4)"
   ],
   "metadata": {
    "collapsed": false,
    "pycharm": {
     "name": "#%%\n"
    }
   }
  },
  {
   "cell_type": "markdown",
   "source": [
    "## 정규식과 BeautifulSoup\n",
    "#### <img src=\"...\"> 태그이 속성['src'] 사용"
   ],
   "metadata": {
    "collapsed": false,
    "pycharm": {
     "name": "#%% md\n"
    }
   }
  },
  {
   "cell_type": "code",
   "execution_count": 19,
   "outputs": [
    {
     "name": "stdout",
     "output_type": "stream",
     "text": [
      "<img src=\"../img/gifts/img1.jpg\"/>, ../img/gifts/img1.jpg\n",
      "<img src=\"../img/gifts/img2.jpg\"/>, ../img/gifts/img2.jpg\n",
      "<img src=\"../img/gifts/img3.jpg\"/>, ../img/gifts/img3.jpg\n",
      "<img src=\"../img/gifts/img4.jpg\"/>, ../img/gifts/img4.jpg\n",
      "<img src=\"../img/gifts/img6.jpg\"/>, ../img/gifts/img6.jpg\n"
     ]
    }
   ],
   "source": [
    "from urllib.request import urlopen\n",
    "from bs4 import BeautifulSoup\n",
    "import re\n",
    "\n",
    "html = urlopen('http://www.pythonscraping.com/pages/page3.html')\n",
    "bs = BeautifulSoup(html, 'html.parser')\n",
    "#img_tag = re.compile('\\.\\.\\/img\\/gifts/img.*\\.jpg')\n",
    "img_tag = re.compile('/img/gifts/img.*.jpg') # .: 임의의 한 문자\n",
    "images = bs.find_all('img', {'src': img_tag})\n",
    "for image in images:\n",
    "    print(image, end=', ')\n",
    "    print(image['src'])"
   ],
   "metadata": {
    "collapsed": false,
    "pycharm": {
     "name": "#%%\n"
    }
   }
  },
  {
   "cell_type": "markdown",
   "source": [
    "#### 대소문자 구분없이 특정 단어 검색\n",
    "- [T|t]{1}he prince"
   ],
   "metadata": {
    "collapsed": false,
    "pycharm": {
     "name": "#%% md\n"
    }
   }
  },
  {
   "cell_type": "code",
   "execution_count": 22,
   "outputs": [
    {
     "name": "stdout",
     "output_type": "stream",
     "text": [
      "the prince count:  7\n",
      "T|the prince count: 11\n"
     ]
    }
   ],
   "source": [
    "from urllib.request import urlopen\n",
    "from bs4 import BeautifulSoup\n",
    "import re\n",
    "\n",
    "html = urlopen('http://www.pythonscraping.com/pages/warandpeace.html')\n",
    "bs = BeautifulSoup(html, 'html.parser')\n",
    "\n",
    "princeList = bs.find_all(text='the prince')\n",
    "#print(princeList)\n",
    "print('the prince count: ', len(princeList))\n",
    "\n",
    "#prince_list = bs.find_all(text=re.compile('^[T|t]{1}he prince$'))\n",
    "prince_list = bs.find_all(text=re.compile('[T|t]{1}he prince'))\n",
    "\n",
    "print('T|the prince count:', len(prince_list))"
   ],
   "metadata": {
    "collapsed": false,
    "pycharm": {
     "name": "#%%\n"
    }
   }
  },
  {
   "cell_type": "markdown",
   "source": [
    "#### Tag 속성에 접근하기\n",
    "- <img>태그의 src 속성값 가져오기: attrs['src']"
   ],
   "metadata": {
    "collapsed": false,
    "pycharm": {
     "name": "#%% md\n"
    }
   }
  },
  {
   "cell_type": "code",
   "execution_count": 24,
   "outputs": [
    {
     "name": "stdout",
     "output_type": "stream",
     "text": [
      "<img src=\"../img/gifts/img1.jpg\"/>\n",
      "{'src': '../img/gifts/img1.jpg'}\n",
      "../img/gifts/img1.jpg\n"
     ]
    }
   ],
   "source": [
    "from bs4 import BeautifulSoup\n",
    "soup = BeautifulSoup('<img src=../img/gifts/img1.jpg>', 'html.parser')\n",
    "\n",
    "img_tag = soup.img # img태그 선택\n",
    "print(img_tag)\n",
    "print(img_tag.attrs)\n",
    "print(img_tag.attrs['src'])"
   ],
   "metadata": {
    "collapsed": false,
    "pycharm": {
     "name": "#%%\n"
    }
   }
  },
  {
   "cell_type": "markdown",
   "source": [
    "#### URL정보 가져왹\n",
    "- <a> 태그: href 속성에 URL정보를 가짐"
   ],
   "metadata": {
    "collapsed": false,
    "pycharm": {
     "name": "#%% md\n"
    }
   }
  },
  {
   "cell_type": "code",
   "execution_count": 25,
   "outputs": [
    {
     "name": "stdout",
     "output_type": "stream",
     "text": [
      "<a href=\"https://www.naver.com\">Naver</a>\n",
      "https://www.naver.com\n",
      "find: <a href=\"https://www.naver.com\">Naver</a>\n",
      "https://www.naver.com\n"
     ]
    }
   ],
   "source": [
    "html = '<a href=\"https://www.naver.com\">Naver</a>'\n",
    "soup = BeautifulSoup(html, 'html.parser')\n",
    "\n",
    "link = soup.a # <a>태그 지정\n",
    "print(link)\n",
    "print(link.attrs['href']) # <a> 태그의 href 속성 접근\n",
    "\n",
    "link1 = soup.find('a')\n",
    "print('find:', link1)\n",
    "print(link1.attrs['href'])"
   ],
   "metadata": {
    "collapsed": false,
    "pycharm": {
     "name": "#%%\n"
    }
   }
  },
  {
   "cell_type": "code",
   "execution_count": null,
   "outputs": [],
   "source": [],
   "metadata": {
    "collapsed": false,
    "pycharm": {
     "name": "#%%\n"
    }
   }
  }
 ],
 "metadata": {
  "kernelspec": {
   "display_name": "Python 3",
   "language": "python",
   "name": "python3"
  },
  "language_info": {
   "codemirror_mode": {
    "name": "ipython",
    "version": 2
   },
   "file_extension": ".py",
   "mimetype": "text/x-python",
   "name": "python",
   "nbconvert_exporter": "python",
   "pygments_lexer": "ipython2",
   "version": "2.7.6"
  }
 },
 "nbformat": 4,
 "nbformat_minor": 0
}